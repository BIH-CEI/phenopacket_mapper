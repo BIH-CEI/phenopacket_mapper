{
 "cells": [
  {
   "cell_type": "markdown",
   "source": [
    "# RareLink Phenopacket Mapper Quickstart Guide"
   ],
   "metadata": {
    "collapsed": false
   },
   "id": "e82955e75f5ff639"
  },
  {
   "cell_type": "code",
   "execution_count": 1,
   "id": "initial_id",
   "metadata": {
    "collapsed": true,
    "ExecuteTime": {
     "end_time": "2024-09-04T21:12:46.636492100Z",
     "start_time": "2024-09-04T21:12:46.563463900Z"
    }
   },
   "outputs": [],
   "source": [
    "import rarelink_phenopacket_mapper as rlpm"
   ]
  },
  {
   "cell_type": "markdown",
   "source": [
    "## Select a Data Model or define your own"
   ],
   "metadata": {
    "collapsed": false
   },
   "id": "e953a1c31d70e89a"
  },
  {
   "cell_type": "code",
   "outputs": [],
   "source": [
    "data_model = rlpm.data_standards.data_models.RARELINK_DATA_MODEL"
   ],
   "metadata": {
    "collapsed": false,
    "ExecuteTime": {
     "start_time": "2024-09-04T21:11:52.308545800Z"
    }
   },
   "id": "1239c138e395d2f3",
   "execution_count": null
  },
  {
   "cell_type": "markdown",
   "source": [
    "## Create the Phenopacket Mapper object"
   ],
   "metadata": {
    "collapsed": false
   },
   "id": "4baaa08c623bc47"
  },
  {
   "cell_type": "code",
   "outputs": [],
   "source": [
    "mapper = rlpm.pipeline.PhenopacketMapper(data_model)"
   ],
   "metadata": {
    "collapsed": false,
    "ExecuteTime": {
     "start_time": "2024-09-04T21:11:52.310544700Z"
    }
   },
   "id": "41978bfcf55d3f12",
   "execution_count": null
  },
  {
   "cell_type": "markdown",
   "source": [
    "## Load data from a file\n",
    "\n",
    "Optionally, you can load data directly from the REDCap API."
   ],
   "metadata": {
    "collapsed": false
   },
   "id": "a1db3e5121ed8147"
  },
  {
   "cell_type": "code",
   "outputs": [],
   "source": [
    "path_to_data = 'data/rarelink_examples'\n",
    "data = mapper.load_data(path=path_to_data)"
   ],
   "metadata": {
    "collapsed": false,
    "ExecuteTime": {
     "start_time": "2024-09-04T21:11:52.312545600Z"
    }
   },
   "id": "a08c593cf256fe8a",
   "execution_count": null
  },
  {
   "cell_type": "markdown",
   "source": [
    "## Define a mapping from the data model to the Phenopacket schema"
   ],
   "metadata": {
    "collapsed": false
   },
   "id": "4e32b5936352708d"
  },
  {
   "cell_type": "code",
   "outputs": [],
   "source": [
    "# TODO: Define the mapping from the data model to the Phenopacket schema"
   ],
   "metadata": {
    "collapsed": false,
    "ExecuteTime": {
     "start_time": "2024-09-04T21:11:52.314051800Z"
    }
   },
   "id": "c9cc40c3fd812252"
  },
  {
   "cell_type": "markdown",
   "source": [
    "## Perform the mapping"
   ],
   "metadata": {
    "collapsed": false
   },
   "id": "47e6e90ce242d14e"
  },
  {
   "cell_type": "code",
   "outputs": [],
   "source": [
    "phenopackets = mapper.map(data)"
   ],
   "metadata": {
    "collapsed": false,
    "ExecuteTime": {
     "start_time": "2024-09-04T21:11:52.316057700Z"
    }
   },
   "id": "fb9eb61e2b0f93ad",
   "execution_count": null
  },
  {
   "cell_type": "markdown",
   "source": [
    "## Write the phenopackets to a file"
   ],
   "metadata": {
    "collapsed": false
   },
   "id": "daccd7546506964a"
  },
  {
   "cell_type": "code",
   "outputs": [],
   "source": [
    "output_path = 'data/phenopacket_examples'\n",
    "if mapper.write(phenopackets, output_path):\n",
    "    print('Phenopackets written successfully')\n",
    "else:\n",
    "    print('Error writing phenopackets')"
   ],
   "metadata": {
    "collapsed": false,
    "ExecuteTime": {
     "start_time": "2024-09-04T21:11:52.317092800Z"
    }
   },
   "id": "7d2b1ab10cfb721"
  },
  {
   "cell_type": "markdown",
   "source": [
    "## [OPTIONAL] Validate the phenopackets"
   ],
   "metadata": {
    "collapsed": false
   },
   "id": "eafe7b6c1c2900fb"
  },
  {
   "cell_type": "code",
   "outputs": [],
   "source": [
    "print('Successful validation:', mapper.validate(phenopackets))\n",
    "print('Successful validation (including reading from a file):', rlpm.pipeline.read_validate(output_path))"
   ],
   "metadata": {
    "collapsed": false,
    "ExecuteTime": {
     "start_time": "2024-09-04T21:11:52.318086400Z"
    }
   },
   "id": "c620777c0cfda711"
  }
 ],
 "metadata": {
  "kernelspec": {
   "display_name": "Python 3",
   "language": "python",
   "name": "python3"
  },
  "language_info": {
   "codemirror_mode": {
    "name": "ipython",
    "version": 2
   },
   "file_extension": ".py",
   "mimetype": "text/x-python",
   "name": "python",
   "nbconvert_exporter": "python",
   "pygments_lexer": "ipython2",
   "version": "2.7.6"
  }
 },
 "nbformat": 4,
 "nbformat_minor": 5
}
