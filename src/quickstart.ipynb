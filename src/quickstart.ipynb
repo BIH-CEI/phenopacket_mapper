{
 "cells": [
  {
   "cell_type": "markdown",
   "source": [
    "# RareLink Phenopacket Mapper Quickstart Guide"
   ],
   "metadata": {
    "collapsed": false
   },
   "id": "e82955e75f5ff639"
  },
  {
   "cell_type": "code",
   "execution_count": 1,
   "id": "initial_id",
   "metadata": {
    "collapsed": true,
    "ExecuteTime": {
     "end_time": "2024-09-04T20:16:18.233159Z",
     "start_time": "2024-09-04T20:16:17.946000200Z"
    }
   },
   "outputs": [],
   "source": [
    "import rarelink_phenopacket_mapper as rlpm"
   ]
  },
  {
   "cell_type": "markdown",
   "source": [
    "## Select a Data Model or define your own"
   ],
   "metadata": {
    "collapsed": false
   },
   "id": "e953a1c31d70e89a"
  },
  {
   "cell_type": "code",
   "outputs": [],
   "source": [
    "data_model = rlpm.data_standards.data_models.RARELINK_DATA_MODEL"
   ],
   "metadata": {
    "collapsed": false,
    "ExecuteTime": {
     "end_time": "2024-09-04T20:17:38.250973Z",
     "start_time": "2024-09-04T20:17:38.243423Z"
    }
   },
   "id": "1239c138e395d2f3",
   "execution_count": 2
  },
  {
   "cell_type": "markdown",
   "source": [
    "## Create the Phenopacket Mapper object"
   ],
   "metadata": {
    "collapsed": false
   },
   "id": "4baaa08c623bc47"
  },
  {
   "cell_type": "code",
   "outputs": [],
   "source": [
    "mapper = rlpm.pipeline.PhenopacketMapper(data_model)"
   ],
   "metadata": {
    "collapsed": false,
    "ExecuteTime": {
     "end_time": "2024-09-04T20:18:02.738623Z",
     "start_time": "2024-09-04T20:18:02.729270700Z"
    }
   },
   "id": "41978bfcf55d3f12",
   "execution_count": 3
  },
  {
   "cell_type": "markdown",
   "source": [
    "## Load data from a file\n",
    "\n",
    "Optionally, you can load data directly from the REDCap API."
   ],
   "metadata": {
    "collapsed": false
   },
   "id": "a1db3e5121ed8147"
  },
  {
   "cell_type": "code",
   "outputs": [
    {
     "ename": "AttributeError",
     "evalue": "'str' object has no attribute 'suffix'",
     "output_type": "error",
     "traceback": [
      "\u001B[1;31m---------------------------------------------------------------------------\u001B[0m",
      "\u001B[1;31mAttributeError\u001B[0m                            Traceback (most recent call last)",
      "Cell \u001B[1;32mIn[4], line 2\u001B[0m\n\u001B[0;32m      1\u001B[0m path_to_data \u001B[38;5;241m=\u001B[39m \u001B[38;5;124m'\u001B[39m\u001B[38;5;124mdata/phenopacket_examples\u001B[39m\u001B[38;5;124m'\u001B[39m\n\u001B[1;32m----> 2\u001B[0m \u001B[43mmapper\u001B[49m\u001B[38;5;241;43m.\u001B[39;49m\u001B[43mload_data\u001B[49m\u001B[43m(\u001B[49m\u001B[43mpath\u001B[49m\u001B[38;5;241;43m=\u001B[39;49m\u001B[43mpath_to_data\u001B[49m\u001B[43m)\u001B[49m\n",
      "File \u001B[1;32m~\\OneDrive\\Documents\\dataspell\\rarelink_phenopacket_mapper\\src\\rarelink_phenopacket_mapper\\pipeline\\phenopacket_mapping.py:16\u001B[0m, in \u001B[0;36mPhenopacketMapper.load_data\u001B[1;34m(self, path)\u001B[0m\n\u001B[0;32m     15\u001B[0m \u001B[38;5;28;01mdef\u001B[39;00m \u001B[38;5;21mload_data\u001B[39m(\u001B[38;5;28mself\u001B[39m, path: Union[\u001B[38;5;28mstr\u001B[39m, Path]):\n\u001B[1;32m---> 16\u001B[0m     \u001B[38;5;28mself\u001B[39m\u001B[38;5;241m.\u001B[39mdata \u001B[38;5;241m=\u001B[39m \u001B[43mread_file\u001B[49m\u001B[43m(\u001B[49m\u001B[43mpath\u001B[49m\u001B[38;5;241;43m=\u001B[39;49m\u001B[43mpath\u001B[49m\u001B[43m,\u001B[49m\u001B[43m \u001B[49m\u001B[43mdata_model\u001B[49m\u001B[38;5;241;43m=\u001B[39;49m\u001B[38;5;28;43mself\u001B[39;49m\u001B[38;5;241;43m.\u001B[39;49m\u001B[43mdata_model\u001B[49m\u001B[43m)\u001B[49m\n",
      "File \u001B[1;32m~\\OneDrive\\Documents\\dataspell\\rarelink_phenopacket_mapper\\src\\rarelink_phenopacket_mapper\\pipeline\\input.py:31\u001B[0m, in \u001B[0;36mread_file\u001B[1;34m(path, data_model, file_type)\u001B[0m\n\u001B[0;32m     23\u001B[0m \u001B[38;5;250m\u001B[39m\u001B[38;5;124;03m\"\"\"Reads a dataset in the RareLink format and returns a list of DataModelInstances\u001B[39;00m\n\u001B[0;32m     24\u001B[0m \n\u001B[0;32m     25\u001B[0m \u001B[38;5;124;03m:param path: Path to RareLink formatted csv or excel file\u001B[39;00m\n\u001B[1;32m   (...)\u001B[0m\n\u001B[0;32m     28\u001B[0m \u001B[38;5;124;03m:return: List of DataModelInstances\u001B[39;00m\n\u001B[0;32m     29\u001B[0m \u001B[38;5;124;03m\"\"\"\u001B[39;00m\n\u001B[0;32m     30\u001B[0m \u001B[38;5;28;01mif\u001B[39;00m file_type \u001B[38;5;241m==\u001B[39m \u001B[38;5;124m'\u001B[39m\u001B[38;5;124munknown\u001B[39m\u001B[38;5;124m'\u001B[39m:\n\u001B[1;32m---> 31\u001B[0m     file_type \u001B[38;5;241m=\u001B[39m \u001B[43mpath\u001B[49m\u001B[38;5;241;43m.\u001B[39;49m\u001B[43msuffix\u001B[49m[\u001B[38;5;241m1\u001B[39m:]\n\u001B[0;32m     33\u001B[0m \u001B[38;5;28;01mif\u001B[39;00m file_type \u001B[38;5;241m==\u001B[39m \u001B[38;5;124m'\u001B[39m\u001B[38;5;124mcsv\u001B[39m\u001B[38;5;124m'\u001B[39m:\n\u001B[0;32m     34\u001B[0m     \u001B[38;5;28;01mreturn\u001B[39;00m _read_csv(path, data_model)\n",
      "\u001B[1;31mAttributeError\u001B[0m: 'str' object has no attribute 'suffix'"
     ]
    }
   ],
   "source": [
    "path_to_data = 'data/rarelink_examples'\n",
    "data = mapper.load_data(path=path_to_data)"
   ],
   "metadata": {
    "collapsed": false,
    "ExecuteTime": {
     "end_time": "2024-09-04T20:18:29.048370Z",
     "start_time": "2024-09-04T20:18:28.782833500Z"
    }
   },
   "id": "a08c593cf256fe8a",
   "execution_count": 4
  },
  {
   "cell_type": "markdown",
   "source": [
    "## Define a mapping from the data model to the Phenopacket schema"
   ],
   "metadata": {
    "collapsed": false
   },
   "id": "4e32b5936352708d"
  },
  {
   "cell_type": "code",
   "outputs": [],
   "source": [
    "# TODO"
   ],
   "metadata": {
    "collapsed": false
   },
   "id": "c9cc40c3fd812252"
  },
  {
   "cell_type": "markdown",
   "source": [
    "## Perform the mapping"
   ],
   "metadata": {
    "collapsed": false
   },
   "id": "47e6e90ce242d14e"
  },
  {
   "cell_type": "code",
   "outputs": [
    {
     "ename": "NameError",
     "evalue": "name 'data' is not defined",
     "output_type": "error",
     "traceback": [
      "\u001B[1;31m---------------------------------------------------------------------------\u001B[0m",
      "\u001B[1;31mNameError\u001B[0m                                 Traceback (most recent call last)",
      "Cell \u001B[1;32mIn[5], line 1\u001B[0m\n\u001B[1;32m----> 1\u001B[0m phenopackets \u001B[38;5;241m=\u001B[39m mapper\u001B[38;5;241m.\u001B[39mmap(\u001B[43mdata\u001B[49m)\n",
      "\u001B[1;31mNameError\u001B[0m: name 'data' is not defined"
     ]
    }
   ],
   "source": [
    "phenopackets = mapper.map(data)"
   ],
   "metadata": {
    "collapsed": false,
    "ExecuteTime": {
     "end_time": "2024-09-04T20:21:07.660060300Z",
     "start_time": "2024-09-04T20:21:07.646930900Z"
    }
   },
   "id": "fb9eb61e2b0f93ad",
   "execution_count": 5
  },
  {
   "cell_type": "markdown",
   "source": [
    "## Write the phenopackets to a file"
   ],
   "metadata": {
    "collapsed": false
   },
   "id": "daccd7546506964a"
  },
  {
   "cell_type": "code",
   "outputs": [],
   "source": [
    "output_path = 'data/phenopacket_examples'\n",
    "if mapper.write(phenopackets, output_path):\n",
    "    print('Phenopackets written successfully')\n",
    "else:\n",
    "    print('Error writing phenopackets')"
   ],
   "metadata": {
    "collapsed": false
   },
   "id": "7d2b1ab10cfb721"
  }
 ],
 "metadata": {
  "kernelspec": {
   "display_name": "Python 3",
   "language": "python",
   "name": "python3"
  },
  "language_info": {
   "codemirror_mode": {
    "name": "ipython",
    "version": 2
   },
   "file_extension": ".py",
   "mimetype": "text/x-python",
   "name": "python",
   "nbconvert_exporter": "python",
   "pygments_lexer": "ipython2",
   "version": "2.7.6"
  }
 },
 "nbformat": 4,
 "nbformat_minor": 5
}
