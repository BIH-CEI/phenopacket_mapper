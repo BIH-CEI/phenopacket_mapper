{
 "cells": [
  {
   "cell_type": "markdown",
   "source": [
    "# ERDRI CDS\n",
    "The \"Set of common data elements for Rare Diseases Registration\" is the first practical instrument released by the EU RD Platform aiming at increasing interoperability of RD registries.\n",
    "\n",
    "It contains 16 data elements to be registered by each rare disease registry across Europe, which are considered to be essential for further research. They refer to patient's personal data, diagnosis, disease history and care pathway, information for research purposes and about disability.\n",
    "\n",
    "The \"Set of common data elements for Rare Diseases Registration\" was produced by a Working Group coordinated by the JRC and composed of experts from EU projects which worked on common data sets: EUCERD Joint Action, EPIRARE and RD-Connect.\n",
    "\n",
    "[Source](https://eu-rd-platform.jrc.ec.europa.eu/set-of-common-data-elements_en)\n",
    "\n",
    "## 1. Defining the ERDRI CDS Data Model\n",
    "To create a data model definition using this package, it can be of use to define the data model first in a tabular format such as csv or excel. We have transcribed the first six sections of the ERDRI CDS into an excel file. Take a look:"
   ],
   "metadata": {
    "collapsed": false
   },
   "id": "f21f49fdf9c67dde"
  },
  {
   "cell_type": "code",
   "execution_count": 1,
   "id": "initial_id",
   "metadata": {
    "collapsed": true,
    "ExecuteTime": {
     "end_time": "2024-09-06T15:30:15.761959Z",
     "start_time": "2024-09-06T15:30:15.451587600Z"
    }
   },
   "outputs": [],
   "source": [
    "import pandas as pd\n",
    "\n",
    "from pathlib import Path\n",
    "\n",
    "import rarelink_phenopacket_mapper as rlpm"
   ]
  },
  {
   "cell_type": "code",
   "outputs": [
    {
     "data": {
      "text/plain": "         data_model_section                             data_field_name  \\\n0              1. Pseudonym                              1.1. Pseudonym   \n1   2. Personal information                          2.1. Date of Birth   \n2   2. Personal information                                    2.2. Sex   \n3         3. Patient Status                       3.1. Patient's status   \n4         3. Patient Status                          3.2. Date of death   \n5           4. Care Pathway  4.1. First contact with specialised centre   \n6        5. Disease history                           5.1. Age at onset   \n7        5. Disease history                       5.2. Age at diagnosis   \n8              6. Diagnosis          6.1. Diagnosis of the rare disease   \n9              6. Diagnosis                      6.2. Genetic diagnosis   \n10             6. Diagnosis                       6.3. Undiagnosed case   \n\n                                          description  \\\n0                                Patient's pseudonym    \n1                             Patient's date of birth   \n2                              Patient's sex at birth   \n3                               Patient alive or dead   \n4                            Patient's date of death    \n5       Date of first contact with specialised centre   \n6          Age at which symptoms/signs first appeared   \n7                     Age at which diagnosis was made   \n8        Diagnosis retained by the specialised centre   \n9   Genetic diagnosis retained by\\nthe specialised...   \n10               How the undiagnosed case is\\ndefined   \n\n                               data_types  required  \\\n0                                  string      True   \n1                                    date      True   \n2                                  string      True   \n3                                     NaN      True   \n4                                    date      True   \n5                                    date      True   \n6                            string, date      True   \n7                                     NaN      True   \n8   orpha, alpha, icd-9, icd-9-cm, icd-10      True   \n9                        hgvs, hgnc, omim      True   \n10                              hpo, hgvs      True   \n\n                                              comment  \n0                                                 NaN  \n1                                            dd/mm/yy  \n2        Female, Male, Undetermined, Foetus (Unknown)  \n3           Alive, Dead, Lost in follow-up, Opted-out  \n4                                            dd/mm/yy  \n5                                            dd/mm/yy  \n6   Antenatal, At birth, Date (dd/mm/yyyy), Undete...  \n7   Antenatal, At birth, Date (dd/mm/yyyy), Undete...  \n8   Orpha code (strongly\\nrecommended – see link) ...  \n9   International classification of\\nmutations (HG...  \n10                   Phenotype (HPO), Genotype (HGVS)  ",
      "text/html": "<div>\n<style scoped>\n    .dataframe tbody tr th:only-of-type {\n        vertical-align: middle;\n    }\n\n    .dataframe tbody tr th {\n        vertical-align: top;\n    }\n\n    .dataframe thead th {\n        text-align: right;\n    }\n</style>\n<table border=\"1\" class=\"dataframe\">\n  <thead>\n    <tr style=\"text-align: right;\">\n      <th></th>\n      <th>data_model_section</th>\n      <th>data_field_name</th>\n      <th>description</th>\n      <th>data_types</th>\n      <th>required</th>\n      <th>comment</th>\n    </tr>\n  </thead>\n  <tbody>\n    <tr>\n      <th>0</th>\n      <td>1. Pseudonym</td>\n      <td>1.1. Pseudonym</td>\n      <td>Patient's pseudonym</td>\n      <td>string</td>\n      <td>True</td>\n      <td>NaN</td>\n    </tr>\n    <tr>\n      <th>1</th>\n      <td>2. Personal information</td>\n      <td>2.1. Date of Birth</td>\n      <td>Patient's date of birth</td>\n      <td>date</td>\n      <td>True</td>\n      <td>dd/mm/yy</td>\n    </tr>\n    <tr>\n      <th>2</th>\n      <td>2. Personal information</td>\n      <td>2.2. Sex</td>\n      <td>Patient's sex at birth</td>\n      <td>string</td>\n      <td>True</td>\n      <td>Female, Male, Undetermined, Foetus (Unknown)</td>\n    </tr>\n    <tr>\n      <th>3</th>\n      <td>3. Patient Status</td>\n      <td>3.1. Patient's status</td>\n      <td>Patient alive or dead</td>\n      <td>NaN</td>\n      <td>True</td>\n      <td>Alive, Dead, Lost in follow-up, Opted-out</td>\n    </tr>\n    <tr>\n      <th>4</th>\n      <td>3. Patient Status</td>\n      <td>3.2. Date of death</td>\n      <td>Patient's date of death</td>\n      <td>date</td>\n      <td>True</td>\n      <td>dd/mm/yy</td>\n    </tr>\n    <tr>\n      <th>5</th>\n      <td>4. Care Pathway</td>\n      <td>4.1. First contact with specialised centre</td>\n      <td>Date of first contact with specialised centre</td>\n      <td>date</td>\n      <td>True</td>\n      <td>dd/mm/yy</td>\n    </tr>\n    <tr>\n      <th>6</th>\n      <td>5. Disease history</td>\n      <td>5.1. Age at onset</td>\n      <td>Age at which symptoms/signs first appeared</td>\n      <td>string, date</td>\n      <td>True</td>\n      <td>Antenatal, At birth, Date (dd/mm/yyyy), Undete...</td>\n    </tr>\n    <tr>\n      <th>7</th>\n      <td>5. Disease history</td>\n      <td>5.2. Age at diagnosis</td>\n      <td>Age at which diagnosis was made</td>\n      <td>NaN</td>\n      <td>True</td>\n      <td>Antenatal, At birth, Date (dd/mm/yyyy), Undete...</td>\n    </tr>\n    <tr>\n      <th>8</th>\n      <td>6. Diagnosis</td>\n      <td>6.1. Diagnosis of the rare disease</td>\n      <td>Diagnosis retained by the specialised centre</td>\n      <td>orpha, alpha, icd-9, icd-9-cm, icd-10</td>\n      <td>True</td>\n      <td>Orpha code (strongly\\nrecommended – see link) ...</td>\n    </tr>\n    <tr>\n      <th>9</th>\n      <td>6. Diagnosis</td>\n      <td>6.2. Genetic diagnosis</td>\n      <td>Genetic diagnosis retained by\\nthe specialised...</td>\n      <td>hgvs, hgnc, omim</td>\n      <td>True</td>\n      <td>International classification of\\nmutations (HG...</td>\n    </tr>\n    <tr>\n      <th>10</th>\n      <td>6. Diagnosis</td>\n      <td>6.3. Undiagnosed case</td>\n      <td>How the undiagnosed case is\\ndefined</td>\n      <td>hpo, hgvs</td>\n      <td>True</td>\n      <td>Phenotype (HPO), Genotype (HGVS)</td>\n    </tr>\n  </tbody>\n</table>\n</div>"
     },
     "execution_count": 2,
     "metadata": {},
     "output_type": "execute_result"
    }
   ],
   "source": [
    "erdri_cds_excel_path = Path('../res/test_data/erdri/erdri_cds.xlsx')\n",
    "erdri_cds_tabular = pd.read_excel(erdri_cds_excel_path)\n",
    "\n",
    "erdri_cds_tabular.head(15)"
   ],
   "metadata": {
    "collapsed": false,
    "ExecuteTime": {
     "end_time": "2024-09-06T15:30:15.915378400Z",
     "start_time": "2024-09-06T15:30:15.761959Z"
    }
   },
   "id": "ad4c59d47a4f1064",
   "execution_count": 2
  },
  {
   "cell_type": "markdown",
   "source": [
    "## 1.1. Defining the Resources used in the Data Model\n",
    "To accurately load the data model from a file, we need to define the resources that are used in the data model. \n",
    "\n",
    "We can make use of the resources that are predefined in `rlpm.data_standards.data_models` and enhance them by adding the correct version of the resource used in the data model.\n",
    "\n",
    "We can then refer to these resources in the data model definition file by listing their namespace_prefix in the data_type column."
   ],
   "metadata": {
    "collapsed": false
   },
   "id": "98a223ed7da2e415"
  },
  {
   "cell_type": "code",
   "outputs": [],
   "source": [
    "from rarelink_phenopacket_mapper.data_standards import code_system"
   ],
   "metadata": {
    "collapsed": false,
    "ExecuteTime": {
     "end_time": "2024-09-06T15:30:15.921196500Z",
     "start_time": "2024-09-06T15:30:15.917138300Z"
    }
   },
   "id": "db83e5fbf1519899",
   "execution_count": 3
  },
  {
   "cell_type": "code",
   "outputs": [],
   "source": [
    "resources = [\n",
    "    code_system.ORDO.set_version('2024-08-02'),\n",
    "    code_system.ICD10_GM,\n",
    "    code_system.HPO,\n",
    "    code_system.HGVS,\n",
    "    code_system.OMIM,\n",
    "    code_system.HGNC,\n",
    "    code_system.ICD9\n",
    "]"
   ],
   "metadata": {
    "collapsed": false,
    "ExecuteTime": {
     "end_time": "2024-09-06T15:30:15.928202Z",
     "start_time": "2024-09-06T15:30:15.919650300Z"
    }
   },
   "id": "cb7b956823c1a684",
   "execution_count": 4
  },
  {
   "cell_type": "markdown",
   "source": [
    "## 1.2. Reading in the Data Model from a file"
   ],
   "metadata": {
    "collapsed": false
   },
   "id": "1e2ea572b37aa504"
  },
  {
   "cell_type": "markdown",
   "source": [
    "### Data Model Definition\n",
    "Now we can import this tabular data model definition into the package and create a data model definition object.\n",
    "\n",
    "We start by defining a dictionary that holds the names of the fields of the `DataField` class as keys and maps them onto columns of the file we want to import our data model from. Conveniently, we have named the columns the same as the fields, which is recommended but not necessary.\n",
    "\n",
    "We pass a path to the data model tabular definition, its file type and the `column_names` dictionary onto the `rlpm.pipeline.read_data_model` method."
   ],
   "metadata": {
    "collapsed": false
   },
   "id": "80bfd3875dbd9bcf"
  },
  {
   "cell_type": "code",
   "outputs": [
    {
     "name": "stdout",
     "output_type": "stream",
     "text": [
      "df_columns=['data_model_section', 'data_field_name', 'description', 'data_types', 'required', 'comment']\n",
      "Column data_field_name maps to DataField.name\n",
      "Column data_model_section maps to DataField.section\n",
      "Column description maps to DataField.description\n",
      "Column data_types maps to DataField.data_type\n",
      "Column required maps to DataField.required\n",
      "Column comment maps to DataField.specification\n"
     ]
    },
    {
     "ename": "KeyError",
     "evalue": "''",
     "output_type": "error",
     "traceback": [
      "\u001B[1;31m---------------------------------------------------------------------------\u001B[0m",
      "\u001B[1;31mKeyError\u001B[0m                                  Traceback (most recent call last)",
      "File \u001B[1;32m~\\anaconda3\\envs\\rlpm\\Lib\\site-packages\\pandas\\core\\indexes\\base.py:3805\u001B[0m, in \u001B[0;36mIndex.get_loc\u001B[1;34m(self, key)\u001B[0m\n\u001B[0;32m   3804\u001B[0m \u001B[38;5;28;01mtry\u001B[39;00m:\n\u001B[1;32m-> 3805\u001B[0m     \u001B[38;5;28;01mreturn\u001B[39;00m \u001B[38;5;28;43mself\u001B[39;49m\u001B[38;5;241;43m.\u001B[39;49m\u001B[43m_engine\u001B[49m\u001B[38;5;241;43m.\u001B[39;49m\u001B[43mget_loc\u001B[49m\u001B[43m(\u001B[49m\u001B[43mcasted_key\u001B[49m\u001B[43m)\u001B[49m\n\u001B[0;32m   3806\u001B[0m \u001B[38;5;28;01mexcept\u001B[39;00m \u001B[38;5;167;01mKeyError\u001B[39;00m \u001B[38;5;28;01mas\u001B[39;00m err:\n",
      "File \u001B[1;32mindex.pyx:167\u001B[0m, in \u001B[0;36mpandas._libs.index.IndexEngine.get_loc\u001B[1;34m()\u001B[0m\n",
      "File \u001B[1;32mindex.pyx:196\u001B[0m, in \u001B[0;36mpandas._libs.index.IndexEngine.get_loc\u001B[1;34m()\u001B[0m\n",
      "File \u001B[1;32mpandas\\\\_libs\\\\hashtable_class_helper.pxi:7081\u001B[0m, in \u001B[0;36mpandas._libs.hashtable.PyObjectHashTable.get_item\u001B[1;34m()\u001B[0m\n",
      "File \u001B[1;32mpandas\\\\_libs\\\\hashtable_class_helper.pxi:7089\u001B[0m, in \u001B[0;36mpandas._libs.hashtable.PyObjectHashTable.get_item\u001B[1;34m()\u001B[0m\n",
      "\u001B[1;31mKeyError\u001B[0m: ''",
      "\nThe above exception was the direct cause of the following exception:\n",
      "\u001B[1;31mKeyError\u001B[0m                                  Traceback (most recent call last)",
      "Cell \u001B[1;32mIn[5], line 12\u001B[0m\n\u001B[0;32m      1\u001B[0m column_names \u001B[38;5;241m=\u001B[39m {\n\u001B[0;32m      2\u001B[0m     \u001B[38;5;66;03m# left side: fields of DataField class, right side: names of columns in data model definition file\u001B[39;00m\n\u001B[0;32m      3\u001B[0m     \u001B[38;5;124m'\u001B[39m\u001B[38;5;124mname\u001B[39m\u001B[38;5;124m'\u001B[39m: \u001B[38;5;124m'\u001B[39m\u001B[38;5;124mdata_field_name\u001B[39m\u001B[38;5;124m'\u001B[39m,\n\u001B[1;32m   (...)\u001B[0m\n\u001B[0;32m      9\u001B[0m     \u001B[38;5;124m'\u001B[39m\u001B[38;5;124mordinal\u001B[39m\u001B[38;5;124m'\u001B[39m: \u001B[38;5;124m'\u001B[39m\u001B[38;5;124m'\u001B[39m  \u001B[38;5;66;03m# if left empty such as here, the program will try to parse the ordinal from the file or leave it empty otherwise\u001B[39;00m\n\u001B[0;32m     10\u001B[0m }\n\u001B[1;32m---> 12\u001B[0m erdri_cds_data_model \u001B[38;5;241m=\u001B[39m \u001B[43mrlpm\u001B[49m\u001B[38;5;241;43m.\u001B[39;49m\u001B[43mpipeline\u001B[49m\u001B[38;5;241;43m.\u001B[39;49m\u001B[43mread_data_model\u001B[49m\u001B[43m(\u001B[49m\u001B[43mdata_model_name\u001B[49m\u001B[38;5;241;43m=\u001B[39;49m\u001B[38;5;124;43m'\u001B[39;49m\u001B[38;5;124;43mERDRI CDS\u001B[39;49m\u001B[38;5;124;43m'\u001B[39;49m\u001B[43m,\u001B[49m\u001B[43m \u001B[49m\u001B[43mpath\u001B[49m\u001B[38;5;241;43m=\u001B[39;49m\u001B[43merdri_cds_excel_path\u001B[49m\u001B[43m,\u001B[49m\u001B[43m \u001B[49m\u001B[43mfile_type\u001B[49m\u001B[38;5;241;43m=\u001B[39;49m\u001B[38;5;124;43m'\u001B[39;49m\u001B[38;5;124;43mexcel\u001B[39;49m\u001B[38;5;124;43m'\u001B[39;49m\u001B[43m,\u001B[49m\u001B[43m \u001B[49m\u001B[43mcolumn_names\u001B[49m\u001B[38;5;241;43m=\u001B[39;49m\u001B[43mcolumn_names\u001B[49m\u001B[43m,\u001B[49m\u001B[43m \u001B[49m\u001B[43mresources\u001B[49m\u001B[38;5;241;43m=\u001B[39;49m\u001B[43mresources\u001B[49m\u001B[43m,\u001B[49m\u001B[43m \u001B[49m\u001B[43mremove_line_breaks\u001B[49m\u001B[38;5;241;43m=\u001B[39;49m\u001B[38;5;28;43;01mTrue\u001B[39;49;00m\u001B[43m,\u001B[49m\u001B[43m \u001B[49m\u001B[43mparse_data_types\u001B[49m\u001B[38;5;241;43m=\u001B[39;49m\u001B[38;5;28;43;01mTrue\u001B[39;49;00m\u001B[43m)\u001B[49m\n\u001B[0;32m     14\u001B[0m \u001B[38;5;28mprint\u001B[39m(erdri_cds_data_model)\n",
      "File \u001B[1;32m~\\OneDrive\\Documents\\dataspell\\rarelink_phenopacket_mapper\\src\\rarelink_phenopacket_mapper\\pipeline\\input.py:148\u001B[0m, in \u001B[0;36mread_data_model\u001B[1;34m(data_model_name, resources, path, file_type, column_names, parse_data_types, compliance, remove_line_breaks, parse_ordinals)\u001B[0m\n\u001B[0;32m    146\u001B[0m required \u001B[38;5;241m=\u001B[39m \u001B[38;5;28mbool\u001B[39m(df\u001B[38;5;241m.\u001B[39mloc[i, column_names\u001B[38;5;241m.\u001B[39mget(\u001B[38;5;124m'\u001B[39m\u001B[38;5;124mrequired\u001B[39m\u001B[38;5;124m'\u001B[39m, \u001B[38;5;124m'\u001B[39m\u001B[38;5;124m'\u001B[39m)])\n\u001B[0;32m    147\u001B[0m specification \u001B[38;5;241m=\u001B[39m df\u001B[38;5;241m.\u001B[39mloc[i, column_names\u001B[38;5;241m.\u001B[39mget(\u001B[38;5;124m'\u001B[39m\u001B[38;5;124mspecification\u001B[39m\u001B[38;5;124m'\u001B[39m, \u001B[38;5;124m'\u001B[39m\u001B[38;5;124m'\u001B[39m)]\n\u001B[1;32m--> 148\u001B[0m ordinal \u001B[38;5;241m=\u001B[39m \u001B[43mdf\u001B[49m\u001B[38;5;241;43m.\u001B[39;49m\u001B[43mloc\u001B[49m\u001B[43m[\u001B[49m\u001B[43mi\u001B[49m\u001B[43m,\u001B[49m\u001B[43m \u001B[49m\u001B[43mcolumn_names\u001B[49m\u001B[38;5;241;43m.\u001B[39;49m\u001B[43mget\u001B[49m\u001B[43m(\u001B[49m\u001B[38;5;124;43m'\u001B[39;49m\u001B[38;5;124;43mordinal\u001B[39;49m\u001B[38;5;124;43m'\u001B[39;49m\u001B[43m,\u001B[49m\u001B[43m \u001B[49m\u001B[38;5;124;43m'\u001B[39;49m\u001B[38;5;124;43m'\u001B[39;49m\u001B[43m)\u001B[49m\u001B[43m]\u001B[49m\n\u001B[0;32m    150\u001B[0m \u001B[38;5;28;01mif\u001B[39;00m remove_line_breaks:\n\u001B[0;32m    151\u001B[0m     data_field_name \u001B[38;5;241m=\u001B[39m remove_line_breaks_if_not_none(data_field_name)\n",
      "File \u001B[1;32m~\\anaconda3\\envs\\rlpm\\Lib\\site-packages\\pandas\\core\\indexing.py:1183\u001B[0m, in \u001B[0;36m_LocationIndexer.__getitem__\u001B[1;34m(self, key)\u001B[0m\n\u001B[0;32m   1181\u001B[0m     key \u001B[38;5;241m=\u001B[39m \u001B[38;5;28mtuple\u001B[39m(com\u001B[38;5;241m.\u001B[39mapply_if_callable(x, \u001B[38;5;28mself\u001B[39m\u001B[38;5;241m.\u001B[39mobj) \u001B[38;5;28;01mfor\u001B[39;00m x \u001B[38;5;129;01min\u001B[39;00m key)\n\u001B[0;32m   1182\u001B[0m     \u001B[38;5;28;01mif\u001B[39;00m \u001B[38;5;28mself\u001B[39m\u001B[38;5;241m.\u001B[39m_is_scalar_access(key):\n\u001B[1;32m-> 1183\u001B[0m         \u001B[38;5;28;01mreturn\u001B[39;00m \u001B[38;5;28;43mself\u001B[39;49m\u001B[38;5;241;43m.\u001B[39;49m\u001B[43mobj\u001B[49m\u001B[38;5;241;43m.\u001B[39;49m\u001B[43m_get_value\u001B[49m\u001B[43m(\u001B[49m\u001B[38;5;241;43m*\u001B[39;49m\u001B[43mkey\u001B[49m\u001B[43m,\u001B[49m\u001B[43m \u001B[49m\u001B[43mtakeable\u001B[49m\u001B[38;5;241;43m=\u001B[39;49m\u001B[38;5;28;43mself\u001B[39;49m\u001B[38;5;241;43m.\u001B[39;49m\u001B[43m_takeable\u001B[49m\u001B[43m)\u001B[49m\n\u001B[0;32m   1184\u001B[0m     \u001B[38;5;28;01mreturn\u001B[39;00m \u001B[38;5;28mself\u001B[39m\u001B[38;5;241m.\u001B[39m_getitem_tuple(key)\n\u001B[0;32m   1185\u001B[0m \u001B[38;5;28;01melse\u001B[39;00m:\n\u001B[0;32m   1186\u001B[0m     \u001B[38;5;66;03m# we by definition only have the 0th axis\u001B[39;00m\n",
      "File \u001B[1;32m~\\anaconda3\\envs\\rlpm\\Lib\\site-packages\\pandas\\core\\frame.py:4214\u001B[0m, in \u001B[0;36mDataFrame._get_value\u001B[1;34m(self, index, col, takeable)\u001B[0m\n\u001B[0;32m   4211\u001B[0m     series \u001B[38;5;241m=\u001B[39m \u001B[38;5;28mself\u001B[39m\u001B[38;5;241m.\u001B[39m_ixs(col, axis\u001B[38;5;241m=\u001B[39m\u001B[38;5;241m1\u001B[39m)\n\u001B[0;32m   4212\u001B[0m     \u001B[38;5;28;01mreturn\u001B[39;00m series\u001B[38;5;241m.\u001B[39m_values[index]\n\u001B[1;32m-> 4214\u001B[0m series \u001B[38;5;241m=\u001B[39m \u001B[38;5;28;43mself\u001B[39;49m\u001B[38;5;241;43m.\u001B[39;49m\u001B[43m_get_item_cache\u001B[49m\u001B[43m(\u001B[49m\u001B[43mcol\u001B[49m\u001B[43m)\u001B[49m\n\u001B[0;32m   4215\u001B[0m engine \u001B[38;5;241m=\u001B[39m \u001B[38;5;28mself\u001B[39m\u001B[38;5;241m.\u001B[39mindex\u001B[38;5;241m.\u001B[39m_engine\n\u001B[0;32m   4217\u001B[0m \u001B[38;5;28;01mif\u001B[39;00m \u001B[38;5;129;01mnot\u001B[39;00m \u001B[38;5;28misinstance\u001B[39m(\u001B[38;5;28mself\u001B[39m\u001B[38;5;241m.\u001B[39mindex, MultiIndex):\n\u001B[0;32m   4218\u001B[0m     \u001B[38;5;66;03m# CategoricalIndex: Trying to use the engine fastpath may give incorrect\u001B[39;00m\n\u001B[0;32m   4219\u001B[0m     \u001B[38;5;66;03m#  results if our categories are integers that dont match our codes\u001B[39;00m\n\u001B[0;32m   4220\u001B[0m     \u001B[38;5;66;03m# IntervalIndex: IntervalTree has no get_loc\u001B[39;00m\n",
      "File \u001B[1;32m~\\anaconda3\\envs\\rlpm\\Lib\\site-packages\\pandas\\core\\frame.py:4638\u001B[0m, in \u001B[0;36mDataFrame._get_item_cache\u001B[1;34m(self, item)\u001B[0m\n\u001B[0;32m   4633\u001B[0m res \u001B[38;5;241m=\u001B[39m cache\u001B[38;5;241m.\u001B[39mget(item)\n\u001B[0;32m   4634\u001B[0m \u001B[38;5;28;01mif\u001B[39;00m res \u001B[38;5;129;01mis\u001B[39;00m \u001B[38;5;28;01mNone\u001B[39;00m:\n\u001B[0;32m   4635\u001B[0m     \u001B[38;5;66;03m# All places that call _get_item_cache have unique columns,\u001B[39;00m\n\u001B[0;32m   4636\u001B[0m     \u001B[38;5;66;03m#  pending resolution of GH#33047\u001B[39;00m\n\u001B[1;32m-> 4638\u001B[0m     loc \u001B[38;5;241m=\u001B[39m \u001B[38;5;28;43mself\u001B[39;49m\u001B[38;5;241;43m.\u001B[39;49m\u001B[43mcolumns\u001B[49m\u001B[38;5;241;43m.\u001B[39;49m\u001B[43mget_loc\u001B[49m\u001B[43m(\u001B[49m\u001B[43mitem\u001B[49m\u001B[43m)\u001B[49m\n\u001B[0;32m   4639\u001B[0m     res \u001B[38;5;241m=\u001B[39m \u001B[38;5;28mself\u001B[39m\u001B[38;5;241m.\u001B[39m_ixs(loc, axis\u001B[38;5;241m=\u001B[39m\u001B[38;5;241m1\u001B[39m)\n\u001B[0;32m   4641\u001B[0m     cache[item] \u001B[38;5;241m=\u001B[39m res\n",
      "File \u001B[1;32m~\\anaconda3\\envs\\rlpm\\Lib\\site-packages\\pandas\\core\\indexes\\base.py:3812\u001B[0m, in \u001B[0;36mIndex.get_loc\u001B[1;34m(self, key)\u001B[0m\n\u001B[0;32m   3807\u001B[0m     \u001B[38;5;28;01mif\u001B[39;00m \u001B[38;5;28misinstance\u001B[39m(casted_key, \u001B[38;5;28mslice\u001B[39m) \u001B[38;5;129;01mor\u001B[39;00m (\n\u001B[0;32m   3808\u001B[0m         \u001B[38;5;28misinstance\u001B[39m(casted_key, abc\u001B[38;5;241m.\u001B[39mIterable)\n\u001B[0;32m   3809\u001B[0m         \u001B[38;5;129;01mand\u001B[39;00m \u001B[38;5;28many\u001B[39m(\u001B[38;5;28misinstance\u001B[39m(x, \u001B[38;5;28mslice\u001B[39m) \u001B[38;5;28;01mfor\u001B[39;00m x \u001B[38;5;129;01min\u001B[39;00m casted_key)\n\u001B[0;32m   3810\u001B[0m     ):\n\u001B[0;32m   3811\u001B[0m         \u001B[38;5;28;01mraise\u001B[39;00m InvalidIndexError(key)\n\u001B[1;32m-> 3812\u001B[0m     \u001B[38;5;28;01mraise\u001B[39;00m \u001B[38;5;167;01mKeyError\u001B[39;00m(key) \u001B[38;5;28;01mfrom\u001B[39;00m \u001B[38;5;21;01merr\u001B[39;00m\n\u001B[0;32m   3813\u001B[0m \u001B[38;5;28;01mexcept\u001B[39;00m \u001B[38;5;167;01mTypeError\u001B[39;00m:\n\u001B[0;32m   3814\u001B[0m     \u001B[38;5;66;03m# If we have a listlike key, _check_indexing_error will raise\u001B[39;00m\n\u001B[0;32m   3815\u001B[0m     \u001B[38;5;66;03m#  InvalidIndexError. Otherwise we fall through and re-raise\u001B[39;00m\n\u001B[0;32m   3816\u001B[0m     \u001B[38;5;66;03m#  the TypeError.\u001B[39;00m\n\u001B[0;32m   3817\u001B[0m     \u001B[38;5;28mself\u001B[39m\u001B[38;5;241m.\u001B[39m_check_indexing_error(key)\n",
      "\u001B[1;31mKeyError\u001B[0m: ''"
     ]
    }
   ],
   "source": [
    "from rarelink_phenopacket_mapper.data_standards import DataField\n",
    "\n",
    "column_names = {\n",
    "    # left side: fields of DataField class, right side: names of columns in data model definition file\n",
    "    DataField.name.__name__: 'data_field_name',\n",
    "    DataField.section.__name__: 'data_model_section',\n",
    "    DataField.description.__name__: 'description',\n",
    "    DataField.data_type.__name__: 'data_types',\n",
    "    DataField.required.__name__: 'required',\n",
    "    DataField.specification.__name__: 'comment',\n",
    "    DataField.ordinal.__name__: ''  # if left empty such as here, the program will try to parse the ordinal from the file or leave it empty otherwise\n",
    "}\n",
    "\n",
    "erdri_cds_data_model = rlpm.pipeline.read_data_model(data_model_name='ERDRI CDS', path=erdri_cds_excel_path, file_type='excel', column_names=column_names, resources=resources, remove_line_breaks=True, parse_data_types=True)\n",
    "\n",
    "print(erdri_cds_data_model)"
   ],
   "metadata": {
    "collapsed": false,
    "ExecuteTime": {
     "end_time": "2024-09-06T15:30:16.880724700Z",
     "start_time": "2024-09-06T15:30:15.924200600Z"
    }
   },
   "id": "e5d814c765570c18",
   "execution_count": 5
  },
  {
   "cell_type": "markdown",
   "source": [
    "### Done! ... Almost!\n",
    "Only if `parse_data_types=True`:\n",
    "If you inspect the output above, you might find warnings such as:\n",
    "```\n",
    "Warning: The type icd-10 could not be parsed to a type or resource. If it refers to a resource, please add it to the list of resources. Otherwise, check your file.\n",
    "```\n",
    "This can happen if a resource was not included in the list of resources or through a parsing error. You can usually fix these quite easily. Having actual types in the `DataModel` instead of strings will help when we use the Data Model to load data by checking if each field complies with the correct type. By default, `compliance` is set to soft, leading to warnings. Changing the setting to hard will raise `ValueError`s instead."
   ],
   "metadata": {
    "collapsed": false
   },
   "id": "ac070014c6f3bf91"
  },
  {
   "cell_type": "code",
   "outputs": [],
   "source": [],
   "metadata": {
    "collapsed": false,
    "ExecuteTime": {
     "end_time": "2024-09-06T15:30:16.892848200Z",
     "start_time": "2024-09-06T15:30:16.880724700Z"
    }
   },
   "id": "6a18c40142835f93",
   "execution_count": null
  }
 ],
 "metadata": {
  "kernelspec": {
   "display_name": "Python 3",
   "language": "python",
   "name": "python3"
  },
  "language_info": {
   "codemirror_mode": {
    "name": "ipython",
    "version": 2
   },
   "file_extension": ".py",
   "mimetype": "text/x-python",
   "name": "python",
   "nbconvert_exporter": "python",
   "pygments_lexer": "ipython2",
   "version": "2.7.6"
  }
 },
 "nbformat": 4,
 "nbformat_minor": 5
}
