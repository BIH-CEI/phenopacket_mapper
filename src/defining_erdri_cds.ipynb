{
 "cells": [
  {
   "cell_type": "markdown",
   "source": [
    "# ERDRI CDS\n",
    "The \"Set of common data elements for Rare Diseases Registration\" is the first practical instrument released by the EU RD Platform aiming at increasing interoperability of RD registries.\n",
    "\n",
    "It contains 16 data elements to be registered by each rare disease registry across Europe, which are considered to be essential for further research. They refer to patient's personal data, diagnosis, disease history and care pathway, information for research purposes and about disability.\n",
    "\n",
    "The \"Set of common data elements for Rare Diseases Registration\" was produced by a Working Group coordinated by the JRC and composed of experts from EU projects which worked on common data sets: EUCERD Joint Action, EPIRARE and RD-Connect.\n",
    "\n",
    "[Source](https://eu-rd-platform.jrc.ec.europa.eu/set-of-common-data-elements_en)\n",
    "\n",
    "## 1. Defining the ERDRI CDS Data Model\n",
    "To create a data model definition using this package, it can be of use to define the data model first in a tabular format such as csv or excel. We have transcribed the first six sections of the ERDRI CDS into an excel file. Take a look:"
   ],
   "metadata": {
    "collapsed": false
   },
   "id": "f21f49fdf9c67dde"
  },
  {
   "cell_type": "code",
   "execution_count": 8,
   "id": "initial_id",
   "metadata": {
    "collapsed": true,
    "ExecuteTime": {
     "end_time": "2024-09-06T14:16:14.107872600Z",
     "start_time": "2024-09-06T14:16:14.078760200Z"
    }
   },
   "outputs": [],
   "source": [
    "import pandas as pd\n",
    "\n",
    "from pathlib import Path\n",
    "\n",
    "import rarelink_phenopacket_mapper as rlpm"
   ]
  },
  {
   "cell_type": "code",
   "outputs": [
    {
     "data": {
      "text/plain": "         data_model_section                             data_field_name  \\\n0              1. Pseudonym                              1.1. Pseudonym   \n1   2. Personal information                          2.1. Date of Birth   \n2   2. Personal information                                    2.2. Sex   \n3         3. Patient Status                       3.1. Patient's status   \n4         3. Patient Status                          3.2. Date of death   \n5           4. Care Pathway  4.1. First contact with specialised centre   \n6        5. Disease history                           5.1. Age at onset   \n7        5. Disease history                       5.2. Age at diagnosis   \n8              6. Diagnosis          6.1. Diagnosis of the rare disease   \n9              6. Diagnosis                      6.2. Genetic diagnosis   \n10             6. Diagnosis                       6.3. Undiagnosed case   \n\n                                          description  \\\n0                                Patient's pseudonym    \n1                             Patient's date of birth   \n2                              Patient's sex at birth   \n3                               Patient alive or dead   \n4                            Patient's date of death    \n5       Date of first contact with specialised centre   \n6          Age at which symptoms/signs first appeared   \n7                     Age at which diagnosis was made   \n8        Diagnosis retained by the specialised centre   \n9   Genetic diagnosis retained by\\nthe specialised...   \n10               How the undiagnosed case is\\ndefined   \n\n                               data_types  required  \\\n0                                  string      True   \n1                                    date      True   \n2                                  string      True   \n3                                     NaN      True   \n4                                    date      True   \n5                                    date      True   \n6                            string, date      True   \n7                                     NaN      True   \n8   orpha, alpha, icd-9, icd-9-cm, icd-10      True   \n9                        hgvs, hgnc, omim      True   \n10                              hpo, hgvs      True   \n\n                                              comment  \n0                                                 NaN  \n1                                            dd/mm/yy  \n2        Female, Male, Undetermined, Foetus (Unknown)  \n3           Alive, Dead, Lost in follow-up, Opted-out  \n4                                            dd/mm/yy  \n5                                            dd/mm/yy  \n6   Antenatal, At birth, Date (dd/mm/yyyy), Undete...  \n7   Antenatal, At birth, Date (dd/mm/yyyy), Undete...  \n8   Orpha code (strongly\\nrecommended – see link) ...  \n9   International classification of\\nmutations (HG...  \n10                   Phenotype (HPO), Genotype (HGVS)  ",
      "text/html": "<div>\n<style scoped>\n    .dataframe tbody tr th:only-of-type {\n        vertical-align: middle;\n    }\n\n    .dataframe tbody tr th {\n        vertical-align: top;\n    }\n\n    .dataframe thead th {\n        text-align: right;\n    }\n</style>\n<table border=\"1\" class=\"dataframe\">\n  <thead>\n    <tr style=\"text-align: right;\">\n      <th></th>\n      <th>data_model_section</th>\n      <th>data_field_name</th>\n      <th>description</th>\n      <th>data_types</th>\n      <th>required</th>\n      <th>comment</th>\n    </tr>\n  </thead>\n  <tbody>\n    <tr>\n      <th>0</th>\n      <td>1. Pseudonym</td>\n      <td>1.1. Pseudonym</td>\n      <td>Patient's pseudonym</td>\n      <td>string</td>\n      <td>True</td>\n      <td>NaN</td>\n    </tr>\n    <tr>\n      <th>1</th>\n      <td>2. Personal information</td>\n      <td>2.1. Date of Birth</td>\n      <td>Patient's date of birth</td>\n      <td>date</td>\n      <td>True</td>\n      <td>dd/mm/yy</td>\n    </tr>\n    <tr>\n      <th>2</th>\n      <td>2. Personal information</td>\n      <td>2.2. Sex</td>\n      <td>Patient's sex at birth</td>\n      <td>string</td>\n      <td>True</td>\n      <td>Female, Male, Undetermined, Foetus (Unknown)</td>\n    </tr>\n    <tr>\n      <th>3</th>\n      <td>3. Patient Status</td>\n      <td>3.1. Patient's status</td>\n      <td>Patient alive or dead</td>\n      <td>NaN</td>\n      <td>True</td>\n      <td>Alive, Dead, Lost in follow-up, Opted-out</td>\n    </tr>\n    <tr>\n      <th>4</th>\n      <td>3. Patient Status</td>\n      <td>3.2. Date of death</td>\n      <td>Patient's date of death</td>\n      <td>date</td>\n      <td>True</td>\n      <td>dd/mm/yy</td>\n    </tr>\n    <tr>\n      <th>5</th>\n      <td>4. Care Pathway</td>\n      <td>4.1. First contact with specialised centre</td>\n      <td>Date of first contact with specialised centre</td>\n      <td>date</td>\n      <td>True</td>\n      <td>dd/mm/yy</td>\n    </tr>\n    <tr>\n      <th>6</th>\n      <td>5. Disease history</td>\n      <td>5.1. Age at onset</td>\n      <td>Age at which symptoms/signs first appeared</td>\n      <td>string, date</td>\n      <td>True</td>\n      <td>Antenatal, At birth, Date (dd/mm/yyyy), Undete...</td>\n    </tr>\n    <tr>\n      <th>7</th>\n      <td>5. Disease history</td>\n      <td>5.2. Age at diagnosis</td>\n      <td>Age at which diagnosis was made</td>\n      <td>NaN</td>\n      <td>True</td>\n      <td>Antenatal, At birth, Date (dd/mm/yyyy), Undete...</td>\n    </tr>\n    <tr>\n      <th>8</th>\n      <td>6. Diagnosis</td>\n      <td>6.1. Diagnosis of the rare disease</td>\n      <td>Diagnosis retained by the specialised centre</td>\n      <td>orpha, alpha, icd-9, icd-9-cm, icd-10</td>\n      <td>True</td>\n      <td>Orpha code (strongly\\nrecommended – see link) ...</td>\n    </tr>\n    <tr>\n      <th>9</th>\n      <td>6. Diagnosis</td>\n      <td>6.2. Genetic diagnosis</td>\n      <td>Genetic diagnosis retained by\\nthe specialised...</td>\n      <td>hgvs, hgnc, omim</td>\n      <td>True</td>\n      <td>International classification of\\nmutations (HG...</td>\n    </tr>\n    <tr>\n      <th>10</th>\n      <td>6. Diagnosis</td>\n      <td>6.3. Undiagnosed case</td>\n      <td>How the undiagnosed case is\\ndefined</td>\n      <td>hpo, hgvs</td>\n      <td>True</td>\n      <td>Phenotype (HPO), Genotype (HGVS)</td>\n    </tr>\n  </tbody>\n</table>\n</div>"
     },
     "execution_count": 9,
     "metadata": {},
     "output_type": "execute_result"
    }
   ],
   "source": [
    "erdri_cds_excel_path = Path('../res/test_data/erdri/erdri_cds.xlsx')\n",
    "erdri_cds_tabular = pd.read_excel(erdri_cds_excel_path)\n",
    "\n",
    "erdri_cds_tabular.head(15)"
   ],
   "metadata": {
    "collapsed": false,
    "ExecuteTime": {
     "end_time": "2024-09-06T14:16:14.164250200Z",
     "start_time": "2024-09-06T14:16:14.139595100Z"
    }
   },
   "id": "ad4c59d47a4f1064",
   "execution_count": 9
  },
  {
   "cell_type": "markdown",
   "source": [
    "## 1.1. Defining the Resources used in the Data Model\n",
    "To accurately load the data model from a file, we need to define the resources that are used in the data model. \n",
    "\n",
    "We can make use of the resources that are predefined in `rlpm.data_standards.data_models` and enhance them by adding the correct version of the resource used in the data model.\n",
    "\n",
    "We can then refer to these resources in the data model definition file by listing their namespace_prefix in the data_type column."
   ],
   "metadata": {
    "collapsed": false
   },
   "id": "98a223ed7da2e415"
  },
  {
   "cell_type": "code",
   "outputs": [],
   "source": [
    "from rarelink_phenopacket_mapper.data_standards import code_system"
   ],
   "metadata": {
    "collapsed": false,
    "ExecuteTime": {
     "end_time": "2024-09-06T14:16:14.230119100Z",
     "start_time": "2024-09-06T14:16:14.168249800Z"
    }
   },
   "id": "db83e5fbf1519899",
   "execution_count": 10
  },
  {
   "cell_type": "code",
   "outputs": [],
   "source": [
    "resources = [\n",
    "    code_system.ORDO.set_version('2024-08-02'),\n",
    "    code_system.ICD10_GM,\n",
    "    code_system.HPO,\n",
    "    code_system.HGVS,\n",
    "    code_system.OMIM,\n",
    "    code_system.HGNC,\n",
    "    code_system.ICD9\n",
    "]"
   ],
   "metadata": {
    "collapsed": false,
    "ExecuteTime": {
     "end_time": "2024-09-06T14:16:14.231120300Z",
     "start_time": "2024-09-06T14:16:14.173600700Z"
    }
   },
   "id": "cb7b956823c1a684",
   "execution_count": 11
  },
  {
   "cell_type": "markdown",
   "source": [
    "## 1.2. Reading in the Data Model from a file"
   ],
   "metadata": {
    "collapsed": false
   },
   "id": "1e2ea572b37aa504"
  },
  {
   "cell_type": "markdown",
   "source": [
    "### Data Model Definition\n",
    "Now we can import this tabular data model definition into the package and create a data model definition object.\n",
    "\n",
    "We start by defining a dictionary that holds the names of the fields of the `DataField` class as keys and maps them onto columns of the file we want to import our data model from. Conveniently, we have named the columns the same as the fields, which is recommended but not necessary.\n",
    "\n",
    "We pass a path to the data model tabular definition, its file type and the `column_names` dictionary onto the `rlpm.pipeline.read_data_model` method."
   ],
   "metadata": {
    "collapsed": false
   },
   "id": "80bfd3875dbd9bcf"
  },
  {
   "cell_type": "code",
   "outputs": [
    {
     "name": "stdout",
     "output_type": "stream",
     "text": [
      "df_columns=['data_model_section', 'data_field_name', 'description', 'data_types', 'required', 'comment']\n",
      "Column data_field_name maps to DataField.name\n",
      "Column data_model_section maps to DataField.section\n",
      "Column description maps to DataField.description\n",
      "Column data_types maps to DataField.data_type\n",
      "Column required maps to DataField.required\n",
      "Column comment maps to DataField.specification\n",
      "\n",
      "\n",
      "\n",
      "\n",
      "\n",
      "\n",
      "\n",
      "\n",
      "\n",
      "\n",
      "\n",
      "\n",
      "\n",
      "\n",
      "\n",
      "\n",
      "\n",
      "\n",
      "\n",
      "\n",
      "\n",
      "\n",
      "\n",
      "\n",
      "\n",
      "\n",
      "\n",
      "\n",
      "\n",
      "\n",
      "\n",
      "\n",
      "\n",
      "\n",
      "\n",
      "\n",
      "\n",
      "\n",
      "\n",
      "\n",
      "\n",
      "\n",
      "\n",
      "\n",
      "\n",
      "\n",
      "\n",
      "\n",
      "\n",
      "\n",
      "\n",
      "\n",
      "\n",
      "\n",
      "\n",
      "\n",
      "\n",
      "Warning: The type alpha could not be parsed to a type or resource. If it refers to a resource, please add it to the list of resources. Otherwise, check your file.\n",
      "\n",
      "\n",
      "\n",
      "\n",
      "\n",
      "\n",
      "\n",
      "\n",
      "\n",
      "\n",
      "\n",
      "\n",
      "\n",
      "\n",
      "Warning: The type icd-9-cm could not be parsed to a type or resource. If it refers to a resource, please add it to the list of resources. Otherwise, check your file.\n",
      "\n",
      "\n",
      "\n",
      "\n",
      "\n",
      "\n",
      "\n",
      "Warning: The type icd-10 could not be parsed to a type or resource. If it refers to a resource, please add it to the list of resources. Otherwise, check your file.\n",
      "\n",
      "\n",
      "\n",
      "\n",
      "\n",
      "\n",
      "\n",
      "\n",
      "\n",
      "\n",
      "\n",
      "\n",
      "\n",
      "\n",
      "\n",
      "\n",
      "\n",
      "\n",
      "\n",
      "\n",
      "\n",
      "\n",
      "ERDRI CDS\n",
      "DataModel(name=ERDRI CDS\n",
      "\tDataField(\n",
      "\t\tordinal, section=None 1. Pseudonym,\n",
      "\t\tname=1.1. Pseudonym,\n",
      "\t\tdata type=[<class 'str'>], required=True,\n",
      "\t\tsepcification=None\n",
      "\t)\n",
      "\tDataField(\n",
      "\t\tordinal, section=None 2. Personal information,\n",
      "\t\tname=2.1. Date of Birth,\n",
      "\t\tdata type=[<class 'rarelink_phenopacket_mapper.data_standards.date.Date'>], required=True,\n",
      "\t\tsepcification=dd/mm/yy\n",
      "\t)\n",
      "\tDataField(\n",
      "\t\tordinal, section=None 2. Personal information,\n",
      "\t\tname=2.2. Sex,\n",
      "\t\tdata type=[<class 'str'>], required=True,\n",
      "\t\tsepcification=Female, Male, Undetermined, Foetus (Unknown)\n",
      "\t)\n",
      "\tDataField(\n",
      "\t\tordinal, section=None 3. Patient Status,\n",
      "\t\tname=3.1. Patient's status,\n",
      "\t\tdata type=[typing.Any], required=True,\n",
      "\t\tsepcification=Alive, Dead, Lost in follow-up, Opted-out\n",
      "\t)\n",
      "\tDataField(\n",
      "\t\tordinal, section=None 3. Patient Status,\n",
      "\t\tname=3.2. Date of death,\n",
      "\t\tdata type=[<class 'rarelink_phenopacket_mapper.data_standards.date.Date'>], required=True,\n",
      "\t\tsepcification=dd/mm/yy\n",
      "\t)\n",
      "\tDataField(\n",
      "\t\tordinal, section=None 4. Care Pathway,\n",
      "\t\tname=4.1. First contact with specialised centre,\n",
      "\t\tdata type=[<class 'rarelink_phenopacket_mapper.data_standards.date.Date'>], required=True,\n",
      "\t\tsepcification=dd/mm/yy\n",
      "\t)\n",
      "\tDataField(\n",
      "\t\tordinal, section=None 5. Disease history,\n",
      "\t\tname=5.1. Age at onset,\n",
      "\t\tdata type=[<class 'str'>, <class 'rarelink_phenopacket_mapper.data_standards.date.Date'>], required=True,\n",
      "\t\tsepcification=Antenatal, At birth, Date (dd/mm/yyyy), Undetermined\n",
      "\t)\n",
      "\tDataField(\n",
      "\t\tordinal, section=None 5. Disease history,\n",
      "\t\tname=5.2. Age at diagnosis,\n",
      "\t\tdata type=[typing.Any], required=True,\n",
      "\t\tsepcification=Antenatal, At birth, Date (dd/mm/yyyy), Undetermined\n",
      "\t)\n",
      "\tDataField(\n",
      "\t\tordinal, section=None 6. Diagnosis,\n",
      "\t\tname=6.1. Diagnosis of the rare disease,\n",
      "\t\tdata type=[CodeSystem(name=Orphanet, name space prefix=ORPHA, version=2024-08-02), 'alpha', CodeSystem(name=International Classification of Diseases, name space prefix=ICD9, version=0.0.0), 'icd-9-cm', 'icd-10'], required=True,\n",
      "\t\tsepcification=Orpha code (strongly recommended – see link) / Alpha code/ ICD-9 code/ ICD-9- CM code / ICD-10 code\n",
      "\t)\n",
      "\tDataField(\n",
      "\t\tordinal, section=None 6. Diagnosis,\n",
      "\t\tname=6.2. Genetic diagnosis,\n",
      "\t\tdata type=[CodeSystem(name=Human Genome Variation Society, name space prefix=HGVS, version=0.0.0), CodeSystem(name=HUGO Gene Nomenclature Committee, name space prefix=HGNC, version=0.0.0), CodeSystem(name=Online Mendelian Inheritance, name space prefix=OMIM, version=0.0.0)], required=True,\n",
      "\t\tsepcification=International classification of mutations (HGVS) (strongly recommended – see link) / HGNC / OMIM code\n",
      "\t)\n",
      "\tDataField(\n",
      "\t\tordinal, section=None 6. Diagnosis,\n",
      "\t\tname=6.3. Undiagnosed case,\n",
      "\t\tdata type=[CodeSystem(name=Human Phenotype Ontology, name space prefix=HP, version=0.0.0), CodeSystem(name=Human Genome Variation Society, name space prefix=HGVS, version=0.0.0)], required=True,\n",
      "\t\tsepcification=Phenotype (HPO), Genotype (HGVS)\n",
      "\t)\n",
      "---\n",
      "\tCodeSystem(name=Orphanet, name space prefix=ORPHA, version=2024-08-02)\n",
      "\tCodeSystem(name=International Classification of Diseases, name space prefix=ICD10-GM, version=0.0.0)\n",
      "\tCodeSystem(name=Human Phenotype Ontology, name space prefix=HP, version=0.0.0)\n",
      "\tCodeSystem(name=Human Genome Variation Society, name space prefix=HGVS, version=0.0.0)\n",
      "\tCodeSystem(name=Online Mendelian Inheritance, name space prefix=OMIM, version=0.0.0)\n",
      "\tCodeSystem(name=HUGO Gene Nomenclature Committee, name space prefix=HGNC, version=0.0.0)\n",
      "\tCodeSystem(name=International Classification of Diseases, name space prefix=ICD9, version=0.0.0)\n",
      ")\n"
     ]
    }
   ],
   "source": [
    "column_names = {\n",
    "    # left side: fields of DataField class, right side: names of columns in data model definition file\n",
    "    'name': 'data_field_name',\n",
    "    'section': 'data_model_section',\n",
    "    'description': 'description',\n",
    "    'data_type': 'data_types',\n",
    "    'required': 'required',\n",
    "    'specification': 'comment',\n",
    "    'ordinal': ''  # if left empty such as here, the program will try to parse the ordinal from the file or leave it empty otherwise\n",
    "}\n",
    "\n",
    "erdri_cds_data_model = rlpm.pipeline.read_data_model(data_model_name='ERDRI CDS', path=erdri_cds_excel_path, file_type='excel', column_names=column_names, resources=resources, remove_line_breaks=True, parse_data_types=True)\n",
    "\n",
    "print(erdri_cds_data_model)"
   ],
   "metadata": {
    "collapsed": false,
    "ExecuteTime": {
     "end_time": "2024-09-06T14:16:14.232121700Z",
     "start_time": "2024-09-06T14:16:14.178826500Z"
    }
   },
   "id": "e5d814c765570c18",
   "execution_count": 12
  },
  {
   "cell_type": "markdown",
   "source": [
    "### Done! ... Almost!\n",
    "Only if `parse_data_types=True`:\n",
    "If you inspect the output above, you might find warnings such as:\n",
    "```\n",
    "Warning: The type icd-10 could not be parsed to a type or resource. If it refers to a resource, please add it to the list of resources. Otherwise, check your file.\n",
    "```\n",
    "This can happen if a resource was not included in the list of resources or through a parsing error. You can usually fix these quite easily. Having actual types in the `DataModel` instead of strings will help when we use the Data Model to load data by checking if each field complies with the correct type. By default, `compliance` is set to soft, leading to warnings. Changing the setting to hard will raise `ValueError`s instead."
   ],
   "metadata": {
    "collapsed": false
   },
   "id": "ac070014c6f3bf91"
  },
  {
   "cell_type": "code",
   "outputs": [],
   "source": [],
   "metadata": {
    "collapsed": false,
    "ExecuteTime": {
     "end_time": "2024-09-06T14:16:14.254480900Z",
     "start_time": "2024-09-06T14:16:14.200381Z"
    }
   },
   "id": "6a18c40142835f93",
   "execution_count": 12
  }
 ],
 "metadata": {
  "kernelspec": {
   "display_name": "Python 3",
   "language": "python",
   "name": "python3"
  },
  "language_info": {
   "codemirror_mode": {
    "name": "ipython",
    "version": 2
   },
   "file_extension": ".py",
   "mimetype": "text/x-python",
   "name": "python",
   "nbconvert_exporter": "python",
   "pygments_lexer": "ipython2",
   "version": "2.7.6"
  }
 },
 "nbformat": 4,
 "nbformat_minor": 5
}
