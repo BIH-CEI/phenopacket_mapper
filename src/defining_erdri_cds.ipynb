{
 "cells": [
  {
   "cell_type": "markdown",
   "source": [
    "# ERDRI CDS\n",
    "The \"Set of common data elements for Rare Diseases Registration\" is the first practical instrument released by the EU RD Platform aiming at increasing interoperability of RD registries.\n",
    "\n",
    "It contains 16 data elements to be registered by each rare disease registry across Europe, which are considered to be essential for further research. They refer to patient's personal data, diagnosis, disease history and care pathway, information for research purposes and about disability.\n",
    "\n",
    "The \"Set of common data elements for Rare Diseases Registration\" was produced by a Working Group coordinated by the JRC and composed of experts from EU projects which worked on common data sets: EUCERD Joint Action, EPIRARE and RD-Connect.\n",
    "\n",
    "[Source](https://eu-rd-platform.jrc.ec.europa.eu/set-of-common-data-elements_en)\n",
    "\n",
    "## 1. Defining the ERDRI CDS Data Model\n",
    "To create a data model definition using this package, it can be of use to define the data model first in a tabular format such as csv or excel. We have transcribed the first six sections of the ERDRI CDS into an excel file. Take a look:"
   ],
   "metadata": {
    "collapsed": false
   },
   "id": "f21f49fdf9c67dde"
  },
  {
   "cell_type": "code",
   "execution_count": 5,
   "id": "initial_id",
   "metadata": {
    "collapsed": true,
    "ExecuteTime": {
     "end_time": "2024-09-05T11:42:14.775701900Z",
     "start_time": "2024-09-05T11:42:14.318082300Z"
    }
   },
   "outputs": [],
   "source": [
    "import pandas as pd\n",
    "\n",
    "from pathlib import Path\n",
    "\n",
    "import rarelink_phenopacket_mapper as rlpm"
   ]
  },
  {
   "cell_type": "code",
   "outputs": [
    {
     "data": {
      "text/plain": "                    section                                        name  \\\n0              1. Pseudonym                              1.1. Pseudonym   \n1   2. Personal information                          2.1. Date of Birth   \n2   2. Personal information                                    2.2. Sex   \n3         3. Patient Status                       3.1. Patient's status   \n4         3. Patient Status                          3.2. Date of death   \n5           4. Care Pathway  4.1. First contact with specialised centre   \n6        5. Disease history                           5.1. Age at onset   \n7        5. Disease history                       5.2. Age at diagnosis   \n8              6. Diagnosis          6.1. Diagnosis of the rare disease   \n9              6. Diagnosis                      6.2. Genetic diagnosis   \n10             6. Diagnosis                       6.3. Undiagnosed case   \n\n                                          description  \\\n0                                Patient's pseudonym    \n1                             Patient's date of birth   \n2                              Patient's sex at birth   \n3                               Patient alive or dead   \n4                            Patient's date of death    \n5       Date of first contact with specialised centre   \n6          Age at which symptoms/signs first appeared   \n7                     Age at which diagnosis was made   \n8        Diagnosis retained by the specialised centre   \n9   Genetic diagnosis retained by\\nthe specialised...   \n10               How the undiagnosed case is\\ndefined   \n\n                                          data_type  required  \\\n0                                            string      True   \n1                                              date      True   \n2                                            string      True   \n3                                               NaN      True   \n4                                              date      True   \n5                                              date      True   \n6                                      string, date      True   \n7                                               NaN      True   \n8   orpha code, alpha code, icd-9, icd-9-cm, icd-10      True   \n9                   hgvs code, hgnc code, omim code      True   \n10                              hpo code, hgvs code      True   \n\n                                        specification  \n0                                                 NaN  \n1                                            dd/mm/yy  \n2        Female, Male, Undetermined, Foetus (Unknown)  \n3           Alive, Dead, Lost in follow-up, Opted-out  \n4                                            dd/mm/yy  \n5                                            dd/mm/yy  \n6   Antenatal, At birth, Date (dd/mm/yyyy), Undete...  \n7   Antenatal, At birth, Date (dd/mm/yyyy), Undete...  \n8   Orpha code (strongly\\nrecommended – see link) ...  \n9   International classification of\\nmutations (HG...  \n10                   Phenotype (HPO), Genotype (HGVS)  ",
      "text/html": "<div>\n<style scoped>\n    .dataframe tbody tr th:only-of-type {\n        vertical-align: middle;\n    }\n\n    .dataframe tbody tr th {\n        vertical-align: top;\n    }\n\n    .dataframe thead th {\n        text-align: right;\n    }\n</style>\n<table border=\"1\" class=\"dataframe\">\n  <thead>\n    <tr style=\"text-align: right;\">\n      <th></th>\n      <th>section</th>\n      <th>name</th>\n      <th>description</th>\n      <th>data_type</th>\n      <th>required</th>\n      <th>specification</th>\n    </tr>\n  </thead>\n  <tbody>\n    <tr>\n      <th>0</th>\n      <td>1. Pseudonym</td>\n      <td>1.1. Pseudonym</td>\n      <td>Patient's pseudonym</td>\n      <td>string</td>\n      <td>True</td>\n      <td>NaN</td>\n    </tr>\n    <tr>\n      <th>1</th>\n      <td>2. Personal information</td>\n      <td>2.1. Date of Birth</td>\n      <td>Patient's date of birth</td>\n      <td>date</td>\n      <td>True</td>\n      <td>dd/mm/yy</td>\n    </tr>\n    <tr>\n      <th>2</th>\n      <td>2. Personal information</td>\n      <td>2.2. Sex</td>\n      <td>Patient's sex at birth</td>\n      <td>string</td>\n      <td>True</td>\n      <td>Female, Male, Undetermined, Foetus (Unknown)</td>\n    </tr>\n    <tr>\n      <th>3</th>\n      <td>3. Patient Status</td>\n      <td>3.1. Patient's status</td>\n      <td>Patient alive or dead</td>\n      <td>NaN</td>\n      <td>True</td>\n      <td>Alive, Dead, Lost in follow-up, Opted-out</td>\n    </tr>\n    <tr>\n      <th>4</th>\n      <td>3. Patient Status</td>\n      <td>3.2. Date of death</td>\n      <td>Patient's date of death</td>\n      <td>date</td>\n      <td>True</td>\n      <td>dd/mm/yy</td>\n    </tr>\n    <tr>\n      <th>5</th>\n      <td>4. Care Pathway</td>\n      <td>4.1. First contact with specialised centre</td>\n      <td>Date of first contact with specialised centre</td>\n      <td>date</td>\n      <td>True</td>\n      <td>dd/mm/yy</td>\n    </tr>\n    <tr>\n      <th>6</th>\n      <td>5. Disease history</td>\n      <td>5.1. Age at onset</td>\n      <td>Age at which symptoms/signs first appeared</td>\n      <td>string, date</td>\n      <td>True</td>\n      <td>Antenatal, At birth, Date (dd/mm/yyyy), Undete...</td>\n    </tr>\n    <tr>\n      <th>7</th>\n      <td>5. Disease history</td>\n      <td>5.2. Age at diagnosis</td>\n      <td>Age at which diagnosis was made</td>\n      <td>NaN</td>\n      <td>True</td>\n      <td>Antenatal, At birth, Date (dd/mm/yyyy), Undete...</td>\n    </tr>\n    <tr>\n      <th>8</th>\n      <td>6. Diagnosis</td>\n      <td>6.1. Diagnosis of the rare disease</td>\n      <td>Diagnosis retained by the specialised centre</td>\n      <td>orpha code, alpha code, icd-9, icd-9-cm, icd-10</td>\n      <td>True</td>\n      <td>Orpha code (strongly\\nrecommended – see link) ...</td>\n    </tr>\n    <tr>\n      <th>9</th>\n      <td>6. Diagnosis</td>\n      <td>6.2. Genetic diagnosis</td>\n      <td>Genetic diagnosis retained by\\nthe specialised...</td>\n      <td>hgvs code, hgnc code, omim code</td>\n      <td>True</td>\n      <td>International classification of\\nmutations (HG...</td>\n    </tr>\n    <tr>\n      <th>10</th>\n      <td>6. Diagnosis</td>\n      <td>6.3. Undiagnosed case</td>\n      <td>How the undiagnosed case is\\ndefined</td>\n      <td>hpo code, hgvs code</td>\n      <td>True</td>\n      <td>Phenotype (HPO), Genotype (HGVS)</td>\n    </tr>\n  </tbody>\n</table>\n</div>"
     },
     "execution_count": 6,
     "metadata": {},
     "output_type": "execute_result"
    }
   ],
   "source": [
    "erdri_cds_excel_path = Path('../res/test_data/erdri/erdri_cds.xlsx')\n",
    "erdri_cds_tabular = pd.read_excel(erdri_cds_excel_path)\n",
    "\n",
    "erdri_cds_tabular.head(15)"
   ],
   "metadata": {
    "collapsed": false,
    "ExecuteTime": {
     "end_time": "2024-09-05T11:42:14.874395400Z",
     "start_time": "2024-09-05T11:42:14.742695300Z"
    }
   },
   "id": "ad4c59d47a4f1064",
   "execution_count": 6
  },
  {
   "cell_type": "markdown",
   "source": [
    "### Data Model Definition\n",
    "Now we can import this tabular data model definition into the package and create a data model definition object.\n",
    "\n",
    "We start by defining a dictionary that holds the names of the fields of the `DataField` class as keys and maps them onto columns of the file we want to import our data model from. Conveniently, we have named the columns the same as the fields, which is recommended but not necessary.\n",
    "\n",
    "We pass a path to the data model tabular definition, its file type and the `column_names` dictionary onto the `rlpm.pipeline.read_data_model` method."
   ],
   "metadata": {
    "collapsed": false
   },
   "id": "80bfd3875dbd9bcf"
  },
  {
   "cell_type": "code",
   "outputs": [
    {
     "name": "stdout",
     "output_type": "stream",
     "text": [
      "                    section                                        name  \\\n",
      "0              1. Pseudonym                              1.1. Pseudonym   \n",
      "1   2. Personal information                          2.1. Date of Birth   \n",
      "2   2. Personal information                                    2.2. Sex   \n",
      "3         3. Patient Status                       3.1. Patient's status   \n",
      "4         3. Patient Status                          3.2. Date of death   \n",
      "5           4. Care Pathway  4.1. First contact with specialised centre   \n",
      "6        5. Disease history                           5.1. Age at onset   \n",
      "7        5. Disease history                       5.2. Age at diagnosis   \n",
      "8              6. Diagnosis          6.1. Diagnosis of the rare disease   \n",
      "9              6. Diagnosis                      6.2. Genetic diagnosis   \n",
      "10             6. Diagnosis                       6.3. Undiagnosed case   \n",
      "\n",
      "                                          description  \\\n",
      "0                                Patient's pseudonym    \n",
      "1                             Patient's date of birth   \n",
      "2                              Patient's sex at birth   \n",
      "3                               Patient alive or dead   \n",
      "4                            Patient's date of death    \n",
      "5       Date of first contact with specialised centre   \n",
      "6          Age at which symptoms/signs first appeared   \n",
      "7                     Age at which diagnosis was made   \n",
      "8        Diagnosis retained by the specialised centre   \n",
      "9   Genetic diagnosis retained by\\nthe specialised...   \n",
      "10               How the undiagnosed case is\\ndefined   \n",
      "\n",
      "                                          data_type  required  \\\n",
      "0                                            string      True   \n",
      "1                                              date      True   \n",
      "2                                            string      True   \n",
      "3                                               NaN      True   \n",
      "4                                              date      True   \n",
      "5                                              date      True   \n",
      "6                                      string, date      True   \n",
      "7                                               NaN      True   \n",
      "8   orpha code, alpha code, icd-9, icd-9-cm, icd-10      True   \n",
      "9                   hgvs code, hgnc code, omim code      True   \n",
      "10                              hpo code, hgvs code      True   \n",
      "\n",
      "                                        specification  \n",
      "0                                                 NaN  \n",
      "1                                            dd/mm/yy  \n",
      "2        Female, Male, Undetermined, Foetus (Unknown)  \n",
      "3           Alive, Dead, Lost in follow-up, Opted-out  \n",
      "4                                            dd/mm/yy  \n",
      "5                                            dd/mm/yy  \n",
      "6   Antenatal, At birth, Date (dd/mm/yyyy), Undete...  \n",
      "7   Antenatal, At birth, Date (dd/mm/yyyy), Undete...  \n",
      "8   Orpha code (strongly\\nrecommended – see link) ...  \n",
      "9   International classification of\\nmutations (HG...  \n",
      "10                   Phenotype (HPO), Genotype (HGVS)  \n",
      "None\n"
     ]
    }
   ],
   "source": [
    "column_names = {\n",
    "    'name': 'name',\n",
    "    'section': 'section',\n",
    "    'description': 'description',\n",
    "    'data_type': 'data_type',\n",
    "    'required': 'required',\n",
    "    'specification': 'specification',\n",
    "    'ordinal': ''\n",
    "}\n",
    "\n",
    "erdri_cds_data_model = rlpm.pipeline.read_data_model(erdri_cds_excel_path, file_type='excel', column_names=column_names)\n",
    "\n",
    "print(erdri_cds_data_model)"
   ],
   "metadata": {
    "collapsed": false,
    "ExecuteTime": {
     "end_time": "2024-09-05T11:42:14.889401900Z",
     "start_time": "2024-09-05T11:42:14.789587400Z"
    }
   },
   "id": "e5d814c765570c18",
   "execution_count": 7
  },
  {
   "cell_type": "code",
   "outputs": [],
   "source": [],
   "metadata": {
    "collapsed": false,
    "ExecuteTime": {
     "end_time": "2024-09-05T11:42:14.889401900Z",
     "start_time": "2024-09-05T11:42:14.831989700Z"
    }
   },
   "id": "6a18c40142835f93",
   "execution_count": 7
  }
 ],
 "metadata": {
  "kernelspec": {
   "display_name": "Python 3",
   "language": "python",
   "name": "python3"
  },
  "language_info": {
   "codemirror_mode": {
    "name": "ipython",
    "version": 2
   },
   "file_extension": ".py",
   "mimetype": "text/x-python",
   "name": "python",
   "nbconvert_exporter": "python",
   "pygments_lexer": "ipython2",
   "version": "2.7.6"
  }
 },
 "nbformat": 4,
 "nbformat_minor": 5
}
