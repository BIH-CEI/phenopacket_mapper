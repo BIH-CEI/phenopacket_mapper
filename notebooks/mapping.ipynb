{
 "cells": [
  {
   "cell_type": "code",
   "execution_count": 7,
   "id": "initial_id",
   "metadata": {
    "collapsed": true,
    "ExecuteTime": {
     "end_time": "2024-09-24T16:48:27.548076200Z",
     "start_time": "2024-09-24T16:48:27.541725500Z"
    }
   },
   "outputs": [],
   "source": [
    "import phenopackets\n",
    "\n",
    "from phenopacket_mapper.data_standards import DataModelInstance, DataModel, DataField, DataFieldValue\n",
    "from phenopacket_mapper.mapping import PhenopacketElement"
   ]
  },
  {
   "cell_type": "code",
   "outputs": [
    {
     "name": "stdout",
     "output_type": "stream",
     "text": [
      "self.elements={'id': DataField(name='pseudonym', value_set=ValueSet(elements=[<class 'str'>], name='', description=''), id='pseudonym', description='', section='', required=True, specification='', ordinal='')}\n"
     ]
    }
   ],
   "source": [
    "data_field = DataField(\"pseudonym\", str)\n",
    "data_model = DataModel(\"Example data model\", [data_field], [])\n",
    "inst = DataModelInstance(0, data_model, [DataFieldValue(0, data_field, \"example_pseudonym\")])\n",
    "ret = PhenopacketElement(phenopackets.Individual, id=data_field).map(inst)"
   ],
   "metadata": {
    "collapsed": false,
    "ExecuteTime": {
     "end_time": "2024-09-24T16:48:27.557279900Z",
     "start_time": "2024-09-24T16:48:27.546938700Z"
    }
   },
   "id": "97dc51ec7438821f",
   "execution_count": 8
  },
  {
   "cell_type": "code",
   "outputs": [
    {
     "name": "stdout",
     "output_type": "stream",
     "text": [
      "<class 'phenopackets.schema.v2.core.individual_pb2.Individual'> : \n",
      " id: \"example_pseudonym\"\n"
     ]
    }
   ],
   "source": [
    "print(type(ret), \": \\n\", ret)"
   ],
   "metadata": {
    "collapsed": false,
    "ExecuteTime": {
     "end_time": "2024-09-24T16:48:27.558279500Z",
     "start_time": "2024-09-24T16:48:27.552589500Z"
    }
   },
   "id": "d4207a5787696884",
   "execution_count": 9
  },
  {
   "cell_type": "code",
   "outputs": [],
   "source": [
    "# data_field = DataField(\"vital_status\", str)\n",
    "# data_model = DataModel(\"Example data model\", [data_field], [])\n",
    "# inst = DataModelInstance(0, data_model, [DataFieldValue(0, data_field, \"ALIVE\")])\n",
    "# ret = PhenopacketElement(phenopackets.VitalStatus, status=data_field).map(inst)\n",
    "# \n",
    "# print(type(ret), \": \\n\", ret)"
   ],
   "metadata": {
    "collapsed": false,
    "ExecuteTime": {
     "end_time": "2024-09-24T16:48:27.564831200Z",
     "start_time": "2024-09-24T16:48:27.557279900Z"
    }
   },
   "id": "1f92d6466d42966f",
   "execution_count": 10
  },
  {
   "cell_type": "code",
   "outputs": [],
   "source": [],
   "metadata": {
    "collapsed": false,
    "ExecuteTime": {
     "end_time": "2024-09-24T16:48:27.569864900Z",
     "start_time": "2024-09-24T16:48:27.562267300Z"
    }
   },
   "id": "e7bdda100bf1d3d2",
   "execution_count": 10
  }
 ],
 "metadata": {
  "kernelspec": {
   "display_name": "Python 3",
   "language": "python",
   "name": "python3"
  },
  "language_info": {
   "codemirror_mode": {
    "name": "ipython",
    "version": 2
   },
   "file_extension": ".py",
   "mimetype": "text/x-python",
   "name": "python",
   "nbconvert_exporter": "python",
   "pygments_lexer": "ipython2",
   "version": "2.7.6"
  }
 },
 "nbformat": 4,
 "nbformat_minor": 5
}
