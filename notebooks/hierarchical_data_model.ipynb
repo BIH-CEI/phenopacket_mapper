{
 "cells": [
  {
   "cell_type": "code",
   "id": "initial_id",
   "metadata": {
    "collapsed": true,
    "ExecuteTime": {
     "end_time": "2024-10-15T16:49:45.994633Z",
     "start_time": "2024-10-15T16:49:45.291536Z"
    }
   },
   "source": [
    "from phenopacket_mapper.data_standards import DataField\n",
    "from phenopacket_mapper.data_standards import DataModel, ValueSet, DataSection, OrGroup\n",
    "from phenopacket_mapper.utils.io import DataReader"
   ],
   "outputs": [],
   "execution_count": 1
  },
  {
   "metadata": {
    "ExecuteTime": {
     "end_time": "2024-10-15T16:49:46.001925Z",
     "start_time": "2024-10-15T16:49:45.997639Z"
    }
   },
   "cell_type": "code",
   "source": [
    "genomic_interpretation = DataModel(\n",
    "    data_model_name=\"Phenopacket schema Genomic Interpretation\",\n",
    "    fields=(\n",
    "        DataField(\n",
    "            name=\"subject_or_biosample_id\",\n",
    "            specification=str,\n",
    "            required=True,\n",
    "            description=\"The id of the patient or biosample that is the subject being interpreted. REQUIRED.\"\n",
    "        ),\n",
    "        \n",
    "        DataField(\n",
    "            name=\"interpretation_status\",\n",
    "            specification=ValueSet(\n",
    "                name=\"Interpretation Status Value Set\",\n",
    "                elements=[\"UNKNOWN_STATUS\", \"REJECTED\", \"CANDIDATE\", \"CONTRIBUTORY\", \"CAUSATIVE\"],\n",
    "            ),\n",
    "            required=True,\n",
    "            description=\"status of the interpretation. REQUIRED.\",\n",
    "        ),\n",
    "        \n",
    "        OrGroup(\n",
    "            name=\"call\",\n",
    "            fields=(\n",
    "                DataSection(\n",
    "                    name=\"GeneDescriptor\",\n",
    "                    fields=(\n",
    "                        DataField(\n",
    "                            name=\"value_id\",\n",
    "                            specification=str,\n",
    "                            required=True,\n",
    "                            description=\"Official identifier of the gene. REQUIRED.\"\n",
    "                        ),\n",
    "\n",
    "                        DataField(\n",
    "                            name=\"symbol\",\n",
    "                            specification=str,\n",
    "                            required=True,\n",
    "                            description=\"Official gene symbol. REQUIRED.\"\n",
    "                        ),\n",
    "\n",
    "                        DataField(\n",
    "                            name=\"description\",\n",
    "                            specification=str,\n",
    "                            required=False,\n",
    "                            description=\"A free-text description of the gene\"\n",
    "                        ),\n",
    "                    ),\n",
    "                ),\n",
    "            ),\n",
    "        ),\n",
    "    )\n",
    ")"
   ],
   "id": "2e979683ae450d9b",
   "outputs": [],
   "execution_count": 2
  },
  {
   "metadata": {
    "ExecuteTime": {
     "end_time": "2024-10-15T16:49:46.057078Z",
     "start_time": "2024-10-15T16:49:46.053873Z"
    }
   },
   "cell_type": "code",
   "source": [
    "s = str(genomic_interpretation)\n",
    "\n",
    "print(s)"
   ],
   "id": "35a697d8b9b8236d",
   "outputs": [
    {
     "name": "stdout",
     "output_type": "stream",
     "text": [
      "DataModel(\n",
      "\tname: Phenopacket schema Genomic Interpretation\n",
      "\tDataField(\n",
      "\t\tid: subject_or_biosample_id,\n",
      "\t\tname: subject_or_biosample_id,\n",
      "\t\trequired: True\n",
      "\t\tspecification: ValueSet(elements=[<class 'str'>], name='', description='')\n",
      "\t\tcardinality: 1..n\n",
      "\t)\n",
      "\tDataField(\n",
      "\t\tid: interpretation_status,\n",
      "\t\tname: interpretation_status,\n",
      "\t\trequired: True\n",
      "\t\tspecification: ValueSet(elements=['UNKNOWN_STATUS', 'REJECTED', 'CANDIDATE', 'CONTRIBUTORY', 'CAUSATIVE'], name='Interpretation Status Value Set', description='')\n",
      "\t\tcardinality: 1..n\n",
      "\t)\n",
      "\tOrGroup(\n",
      "\t\tid: call,\n",
      "\t\tname: call,\n",
      "\t\trequired: False\n",
      "\t\tcardinality: 0..n\n",
      "\tDataSection(\n",
      "\t\tid: genedescriptor,\n",
      "\t\tname: GeneDescriptor,\n",
      "\t\trequired: False\n",
      "\t\tcardinality: 0..n\n",
      "\tDataField(\n",
      "\t\tid: value_id,\n",
      "\t\tname: value_id,\n",
      "\t\trequired: True\n",
      "\t\tspecification: ValueSet(elements=[<class 'str'>], name='', description='')\n",
      "\t\tcardinality: 1..n\n",
      "\t)\n",
      "\tDataField(\n",
      "\t\tid: symbol,\n",
      "\t\tname: symbol,\n",
      "\t\trequired: True\n",
      "\t\tspecification: ValueSet(elements=[<class 'str'>], name='', description='')\n",
      "\t\tcardinality: 1..n\n",
      "\t)\n",
      "\tDataField(\n",
      "\t\tid: description,\n",
      "\t\tname: description,\n",
      "\t\trequired: False\n",
      "\t\tspecification: ValueSet(elements=[<class 'str'>], name='', description='')\n",
      "\t\tcardinality: 0..n\n",
      "\t)\n",
      "\t)\n",
      "\t)\n",
      "---\n",
      ")\n"
     ]
    }
   ],
   "execution_count": 3
  },
  {
   "metadata": {
    "ExecuteTime": {
     "end_time": "2024-10-15T16:49:46.123667Z",
     "start_time": "2024-10-15T16:49:46.120256Z"
    }
   },
   "cell_type": "code",
   "source": [
    "from io import StringIO\n",
    "\n",
    "xml_data = \\\n",
    "    (\n",
    "        '<?xml version=\"1.0\" encoding=\"UTF-8\" ?> <ODM xmlns=\"http://www.cdisc.org/ns/odm/v1.3\" xmlns:ds=\"http://www.w3.org/2000/09/xmldsig#\" xmlns:xsi=\"http://www.w3.org/2001/XMLSchema-instance\" xmlns:redcap=\"https://projectredcap.org\" xsi:schemaLocation=\"http://www.cdisc.org/ns/odm/v1.3 schema/odm/ODM1-3-1.xsd\" ODMVersion=\"1.3.1\" FileOID=\"000-00-0000\" FileType=\"Snapshot\" Description=\"genAdipositas - ALT Demo\" AsOfDateTime=\"2024-10-14T11:57:18\" CreationDateTime=\"2024-10-14T11:57:18\" SourceSystem=\"REDCap\" SourceSystemVersion=\"14.6.9\"> '\n",
    "        '<ClinicalData StudyOID=\"Project.GenAdipositasALTDemo\" MetaDataVersionOID=\"Metadata.GenAdipositasALTDemo_2024-10-14_1157\">'\n",
    "        '<SubjectData SubjectKey=\"101\" redcap:RecordIdField=\"record_id\">\t'\n",
    "        '</SubjectData>'\n",
    "        '</ClinicalData>'\n",
    "        '</ODM>'\n",
    "    )\n",
    "\n",
    "buffer = StringIO(xml_data)"
   ],
   "id": "4c78eb05ea58ff6c",
   "outputs": [],
   "execution_count": 4
  },
  {
   "metadata": {
    "ExecuteTime": {
     "end_time": "2024-10-15T16:49:46.146860Z",
     "start_time": "2024-10-15T16:49:46.143098Z"
    }
   },
   "cell_type": "code",
   "source": "dr = DataReader(buffer, file_extension=\"xml\")",
   "id": "a9f83d6e46715301",
   "outputs": [
    {
     "name": "stdout",
     "output_type": "stream",
     "text": [
      "dict_={'ODM': {'@xmlns': 'http://www.cdisc.org/ns/odm/v1.3', '@xmlns:ds': 'http://www.w3.org/2000/09/xmldsig#', '@xmlns:xsi': 'http://www.w3.org/2001/XMLSchema-instance', '@xmlns:redcap': 'https://projectredcap.org', '@xsi:schemaLocation': 'http://www.cdisc.org/ns/odm/v1.3 schema/odm/ODM1-3-1.xsd', '@ODMVersion': '1.3.1', '@FileOID': '000-00-0000', '@FileType': 'Snapshot', '@Description': 'genAdipositas - ALT Demo', '@AsOfDateTime': '2024-10-14T11:57:18', '@CreationDateTime': '2024-10-14T11:57:18', '@SourceSystem': 'REDCap', '@SourceSystemVersion': '14.6.9', 'ClinicalData': {'@StudyOID': 'Project.GenAdipositasALTDemo', '@MetaDataVersionOID': 'Metadata.GenAdipositasALTDemo_2024-10-14_1157', 'SubjectData': {'@SubjectKey': '101', '@redcap:RecordIdField': 'record_id'}}}}, type(dict_)=<class 'dict'>\n",
      "k='ODM', type(k)=<class 'str'>, v={'@xmlns': 'http://www.cdisc.org/ns/odm/v1.3', '@xmlns:ds': 'http://www.w3.org/2000/09/xmldsig#', '@xmlns:xsi': 'http://www.w3.org/2001/XMLSchema-instance', '@xmlns:redcap': 'https://projectredcap.org', '@xsi:schemaLocation': 'http://www.cdisc.org/ns/odm/v1.3 schema/odm/ODM1-3-1.xsd', '@ODMVersion': '1.3.1', '@FileOID': '000-00-0000', '@FileType': 'Snapshot', '@Description': 'genAdipositas - ALT Demo', '@AsOfDateTime': '2024-10-14T11:57:18', '@CreationDateTime': '2024-10-14T11:57:18', '@SourceSystem': 'REDCap', '@SourceSystemVersion': '14.6.9', 'ClinicalData': {'@StudyOID': 'Project.GenAdipositasALTDemo', '@MetaDataVersionOID': 'Metadata.GenAdipositasALTDemo_2024-10-14_1157', 'SubjectData': {'@SubjectKey': '101', '@redcap:RecordIdField': 'record_id'}}}, type(v)=<class 'dict'>\n",
      "k='@xmlns', type(k)=<class 'str'>, v='http://www.cdisc.org/ns/odm/v1.3', type(v)=<class 'str'>\n",
      "k='@xmlns:ds', type(k)=<class 'str'>, v='http://www.w3.org/2000/09/xmldsig#', type(v)=<class 'str'>\n",
      "k='@xmlns:xsi', type(k)=<class 'str'>, v='http://www.w3.org/2001/XMLSchema-instance', type(v)=<class 'str'>\n",
      "k='@xmlns:redcap', type(k)=<class 'str'>, v='https://projectredcap.org', type(v)=<class 'str'>\n",
      "k='@xsi:schemaLocation', type(k)=<class 'str'>, v='http://www.cdisc.org/ns/odm/v1.3 schema/odm/ODM1-3-1.xsd', type(v)=<class 'str'>\n",
      "k='@ODMVersion', type(k)=<class 'str'>, v='1.3.1', type(v)=<class 'str'>\n",
      "k='@FileOID', type(k)=<class 'str'>, v='000-00-0000', type(v)=<class 'str'>\n",
      "k='@FileType', type(k)=<class 'str'>, v='Snapshot', type(v)=<class 'str'>\n",
      "k='@Description', type(k)=<class 'str'>, v='genAdipositas - ALT Demo', type(v)=<class 'str'>\n",
      "k='@AsOfDateTime', type(k)=<class 'str'>, v='2024-10-14T11:57:18', type(v)=<class 'str'>\n",
      "k='@CreationDateTime', type(k)=<class 'str'>, v='2024-10-14T11:57:18', type(v)=<class 'str'>\n",
      "k='@SourceSystem', type(k)=<class 'str'>, v='REDCap', type(v)=<class 'str'>\n",
      "k='@SourceSystemVersion', type(k)=<class 'str'>, v='14.6.9', type(v)=<class 'str'>\n",
      "k='ClinicalData', type(k)=<class 'str'>, v={'@StudyOID': 'Project.GenAdipositasALTDemo', '@MetaDataVersionOID': 'Metadata.GenAdipositasALTDemo_2024-10-14_1157', 'SubjectData': {'@SubjectKey': '101', '@redcap:RecordIdField': 'record_id'}}, type(v)=<class 'dict'>\n",
      "k='@StudyOID', type(k)=<class 'str'>, v='Project.GenAdipositasALTDemo', type(v)=<class 'str'>\n",
      "k='@MetaDataVersionOID', type(k)=<class 'str'>, v='Metadata.GenAdipositasALTDemo_2024-10-14_1157', type(v)=<class 'str'>\n",
      "k='SubjectData', type(k)=<class 'str'>, v={'@SubjectKey': '101', '@redcap:RecordIdField': 'record_id'}, type(v)=<class 'dict'>\n",
      "k='@SubjectKey', type(k)=<class 'str'>, v='101', type(v)=<class 'str'>\n",
      "k='@redcap:RecordIdField', type(k)=<class 'str'>, v='record_id', type(v)=<class 'str'>\n"
     ]
    }
   ],
   "execution_count": 5
  },
  {
   "metadata": {
    "ExecuteTime": {
     "end_time": "2024-10-16T09:17:15.597615Z",
     "start_time": "2024-10-16T09:17:15.576646Z"
    }
   },
   "cell_type": "code",
   "source": [
    "from io import IOBase\n",
    "from pathlib import Path\n",
    "from typing import Union, List, Literal\n",
    "\n",
    "\n",
    "def load_hierarchical_data(\n",
    "        file: Union[str, Path, IOBase, List[str], List[Path], List[IOBase]], \n",
    "        data_model: DataModel, \n",
    "        file_extension: Literal['csv', 'xlsx', 'json', 'xml'] = None\n",
    "):\n",
    "    data_reader = DataReader(file, file_extension=file_extension)\n",
    "    xml_dict = data_reader.data\n",
    "    print(xml_dict)"
   ],
   "id": "affc9ecd939c903f",
   "outputs": [],
   "execution_count": 1
  }
 ],
 "metadata": {
  "kernelspec": {
   "display_name": "Python 3",
   "language": "python",
   "name": "python3"
  },
  "language_info": {
   "codemirror_mode": {
    "name": "ipython",
    "version": 2
   },
   "file_extension": ".py",
   "mimetype": "text/x-python",
   "name": "python",
   "nbconvert_exporter": "python",
   "pygments_lexer": "ipython2",
   "version": "2.7.6"
  }
 },
 "nbformat": 4,
 "nbformat_minor": 5
}
