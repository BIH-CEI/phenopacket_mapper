{
 "cells": [
  {
   "cell_type": "code",
   "id": "initial_id",
   "metadata": {
    "collapsed": true,
    "ExecuteTime": {
     "end_time": "2024-10-16T10:23:42.867547Z",
     "start_time": "2024-10-16T10:23:42.862494Z"
    }
   },
   "source": [
    "from numpy.f2py.auxfuncs import isintent_dict\n",
    "from phenopacket_mapper.data_standards import DataField\n",
    "from phenopacket_mapper.data_standards import DataModel, ValueSet, DataSection, OrGroup\n",
    "from phenopacket_mapper.utils.io import DataReader\n",
    "from referencing.jsonschema import specification_with"
   ],
   "outputs": [],
   "execution_count": 69
  },
  {
   "metadata": {
    "ExecuteTime": {
     "end_time": "2024-10-16T10:23:42.912602Z",
     "start_time": "2024-10-16T10:23:42.902709Z"
    }
   },
   "cell_type": "code",
   "source": [
    "genomic_interpretation = DataModel(\n",
    "    data_model_name=\"Phenopacket schema Genomic Interpretation\",\n",
    "    fields=(\n",
    "        DataField(\n",
    "            name=\"subject_or_biosample_id\",\n",
    "            specification=str,\n",
    "            required=True,\n",
    "            description=\"The id of the patient or biosample that is the subject being interpreted. REQUIRED.\"\n",
    "        ),\n",
    "        \n",
    "        DataField(\n",
    "            name=\"interpretation_status\",\n",
    "            specification=ValueSet(\n",
    "                name=\"Interpretation Status Value Set\",\n",
    "                elements=[\"UNKNOWN_STATUS\", \"REJECTED\", \"CANDIDATE\", \"CONTRIBUTORY\", \"CAUSATIVE\"],\n",
    "            ),\n",
    "            required=True,\n",
    "            description=\"status of the interpretation. REQUIRED.\",\n",
    "        ),\n",
    "        \n",
    "        DataSection(\n",
    "            name=\"example\",\n",
    "            required=True,\n",
    "            fields=(\n",
    "                DataField(\n",
    "                    name=\"a_number\",\n",
    "                    required=True,\n",
    "                    specification=int,                    \n",
    "                ),\n",
    "            )\n",
    "        ),\n",
    "        \n",
    "        OrGroup(\n",
    "            name=\"call\",\n",
    "            fields=(\n",
    "                DataSection(\n",
    "                    name=\"GeneDescriptor\",\n",
    "                    fields=(\n",
    "                        DataField(\n",
    "                            name=\"value_id\",\n",
    "                            specification=str,\n",
    "                            required=True,\n",
    "                            description=\"Official identifier of the gene. REQUIRED.\"\n",
    "                        ),\n",
    "\n",
    "                        DataField(\n",
    "                            name=\"symbol\",\n",
    "                            specification=str,\n",
    "                            required=True,\n",
    "                            description=\"Official gene symbol. REQUIRED.\"\n",
    "                        ),\n",
    "\n",
    "                        DataField(\n",
    "                            name=\"description\",\n",
    "                            specification=str,\n",
    "                            required=False,\n",
    "                            description=\"A free-text description of the gene\"\n",
    "                        ),\n",
    "                    ),\n",
    "                ),\n",
    "            ),\n",
    "        ),\n",
    "    )\n",
    ")"
   ],
   "id": "2e979683ae450d9b",
   "outputs": [],
   "execution_count": 70
  },
  {
   "metadata": {
    "ExecuteTime": {
     "end_time": "2024-10-16T10:23:42.934883Z",
     "start_time": "2024-10-16T10:23:42.928341Z"
    }
   },
   "cell_type": "code",
   "source": [
    "s = str(genomic_interpretation)\n",
    "\n",
    "print(s)"
   ],
   "id": "35a697d8b9b8236d",
   "outputs": [
    {
     "name": "stdout",
     "output_type": "stream",
     "text": [
      "DataModel(\n",
      "\tname: Phenopacket schema Genomic Interpretation\n",
      "\tDataField(\n",
      "\t\tid: subject_or_biosample_id,\n",
      "\t\tname: subject_or_biosample_id,\n",
      "\t\trequired: True\n",
      "\t\tspecification: ValueSet(elements=[<class 'str'>], name='', description='')\n",
      "\t\tcardinality: 1..n\n",
      "\t)\n",
      "\tDataField(\n",
      "\t\tid: interpretation_status,\n",
      "\t\tname: interpretation_status,\n",
      "\t\trequired: True\n",
      "\t\tspecification: ValueSet(elements=['UNKNOWN_STATUS', 'REJECTED', 'CANDIDATE', 'CONTRIBUTORY', 'CAUSATIVE'], name='Interpretation Status Value Set', description='')\n",
      "\t\tcardinality: 1..n\n",
      "\t)\n",
      "\tDataSection(\n",
      "\t\tid: example,\n",
      "\t\tname: example,\n",
      "\t\trequired: True\n",
      "\t\tcardinality: 1..n\n",
      "\tDataField(\n",
      "\t\tid: a_number,\n",
      "\t\tname: a_number,\n",
      "\t\trequired: True\n",
      "\t\tspecification: ValueSet(elements=[<class 'int'>], name='', description='')\n",
      "\t\tcardinality: 1..n\n",
      "\t)\n",
      "\t)\n",
      "\tOrGroup(\n",
      "\t\tid: call,\n",
      "\t\tname: call,\n",
      "\t\trequired: False\n",
      "\t\tcardinality: 0..n\n",
      "\tDataSection(\n",
      "\t\tid: genedescriptor,\n",
      "\t\tname: GeneDescriptor,\n",
      "\t\trequired: False\n",
      "\t\tcardinality: 0..n\n",
      "\tDataField(\n",
      "\t\tid: value_id,\n",
      "\t\tname: value_id,\n",
      "\t\trequired: True\n",
      "\t\tspecification: ValueSet(elements=[<class 'str'>], name='', description='')\n",
      "\t\tcardinality: 1..n\n",
      "\t)\n",
      "\tDataField(\n",
      "\t\tid: symbol,\n",
      "\t\tname: symbol,\n",
      "\t\trequired: True\n",
      "\t\tspecification: ValueSet(elements=[<class 'str'>], name='', description='')\n",
      "\t\tcardinality: 1..n\n",
      "\t)\n",
      "\tDataField(\n",
      "\t\tid: description,\n",
      "\t\tname: description,\n",
      "\t\trequired: False\n",
      "\t\tspecification: ValueSet(elements=[<class 'str'>], name='', description='')\n",
      "\t\tcardinality: 0..n\n",
      "\t)\n",
      "\t)\n",
      "\t)\n",
      "---\n",
      ")\n"
     ]
    }
   ],
   "execution_count": 71
  },
  {
   "metadata": {
    "ExecuteTime": {
     "end_time": "2024-10-16T10:23:42.969443Z",
     "start_time": "2024-10-16T10:23:42.963812Z"
    }
   },
   "cell_type": "code",
   "source": [
    "from io import StringIO\n",
    "\n",
    "xml_data = \\\n",
    "    (\n",
    "        '<?xml version=\"1.0\" encoding=\"UTF-8\" ?> <ODM xmlns=\"http://www.cdisc.org/ns/odm/v1.3\" xmlns:ds=\"http://www.w3.org/2000/09/xmldsig#\" xmlns:xsi=\"http://www.w3.org/2001/XMLSchema-instance\" xmlns:redcap=\"https://projectredcap.org\" xsi:schemaLocation=\"http://www.cdisc.org/ns/odm/v1.3 schema/odm/ODM1-3-1.xsd\" ODMVersion=\"1.3.1\" FileOID=\"000-00-0000\" FileType=\"Snapshot\" Description=\"genAdipositas - ALT Demo\" AsOfDateTime=\"2024-10-14T11:57:18\" CreationDateTime=\"2024-10-14T11:57:18\" SourceSystem=\"REDCap\" SourceSystemVersion=\"14.6.9\"> '\n",
    "        '<ClinicalData StudyOID=\"Project.GenAdipositasALTDemo\" MetaDataVersionOID=\"Metadata.GenAdipositasALTDemo_2024-10-14_1157\">'\n",
    "        '<SubjectData SubjectKey=\"101\" redcap:RecordIdField=\"record_id\">'\n",
    "            '<ANumber>123</ANumber>'\n",
    "        '</SubjectData>'\n",
    "        '</ClinicalData>'\n",
    "        '</ODM>'\n",
    "    )\n",
    "\n",
    "buffer = StringIO(xml_data)"
   ],
   "id": "4c78eb05ea58ff6c",
   "outputs": [],
   "execution_count": 72
  },
  {
   "metadata": {
    "ExecuteTime": {
     "end_time": "2024-10-16T10:23:43.011750Z",
     "start_time": "2024-10-16T10:23:43.002714Z"
    }
   },
   "cell_type": "code",
   "source": [
    "from io import IOBase\n",
    "from pathlib import Path\n",
    "from typing import Union, List, Literal, Dict\n",
    "\n",
    "\n",
    "def load_hierarchical_data(\n",
    "        file: Union[str, Path, IOBase, List[str], List[Path], List[IOBase]], \n",
    "        data_model: DataModel, \n",
    "        file_extension: Literal['csv', 'xlsx', 'json', 'xml'] = None,\n",
    "        **kwargs,\n",
    "):  \n",
    "    def recursive_dict_call(d: Dict, keys: List, default=None):\n",
    "        if not isinstance(d, dict):\n",
    "            return d\n",
    "        elif len(keys) == 1:\n",
    "            return d.get(keys[0], default)\n",
    "        else:\n",
    "            return recursive_dict_call(d.get(keys[0], default), keys[1:])\n",
    "    data_reader = DataReader(file, file_extension=file_extension)\n",
    "    xml_dict = data_reader.data\n",
    "    \n",
    "    for k, v in kwargs.items():\n",
    "        print(f\"{k=}: {v=}\")\n",
    "        v_keys = v.split('.')\n",
    "        v = recursive_dict_call(xml_dict, v_keys)\n",
    "        print(f\"retrieved {k=}: {v=}\")"
   ],
   "id": "affc9ecd939c903f",
   "outputs": [],
   "execution_count": 73
  },
  {
   "metadata": {
    "ExecuteTime": {
     "end_time": "2024-10-16T10:23:43.041065Z",
     "start_time": "2024-10-16T10:23:43.035664Z"
    }
   },
   "cell_type": "code",
   "source": [
    "data_model_instance = load_hierarchical_data(\n",
    "    buffer, \n",
    "    genomic_interpretation, \n",
    "    file_extension=\"xml\",\n",
    "    subject_or_biosample_id=\"ODM.ClinicalData.SubjectData.SubjectKey\",\n",
    "    example__a_number=\"ODM.ClinicalData.SubjectData.ANumber1\",\n",
    ")"
   ],
   "id": "53937efded7f589f",
   "outputs": [
    {
     "name": "stdout",
     "output_type": "stream",
     "text": [
      "k='subject_or_biosample_id': v='ODM.ClinicalData.SubjectData.SubjectKey'\n",
      "retrieved k='subject_or_biosample_id': v=101\n",
      "k='example__a_number': v='ODM.ClinicalData.SubjectData.ANumber1'\n",
      "retrieved k='example__a_number': v=None\n"
     ]
    }
   ],
   "execution_count": 74
  },
  {
   "metadata": {
    "ExecuteTime": {
     "end_time": "2024-10-16T10:23:43.183385Z",
     "start_time": "2024-10-16T10:23:43.179443Z"
    }
   },
   "cell_type": "code",
   "source": "",
   "id": "edbf8ad0a0a55290",
   "outputs": [],
   "execution_count": null
  }
 ],
 "metadata": {
  "kernelspec": {
   "display_name": "Python 3",
   "language": "python",
   "name": "python3"
  },
  "language_info": {
   "codemirror_mode": {
    "name": "ipython",
    "version": 2
   },
   "file_extension": ".py",
   "mimetype": "text/x-python",
   "name": "python",
   "nbconvert_exporter": "python",
   "pygments_lexer": "ipython2",
   "version": "2.7.6"
  }
 },
 "nbformat": 4,
 "nbformat_minor": 5
}
