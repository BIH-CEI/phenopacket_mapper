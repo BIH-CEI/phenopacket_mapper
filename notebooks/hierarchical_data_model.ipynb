{
 "cells": [
  {
   "cell_type": "code",
   "id": "initial_id",
   "metadata": {
    "collapsed": true,
    "ExecuteTime": {
     "end_time": "2024-10-11T08:27:10.741111Z",
     "start_time": "2024-10-11T08:27:09.593853Z"
    }
   },
   "source": [
    "from dataclasses import fields\n",
    "\n",
    "from build.lib.phenopacket_mapper.data_standards import DataField\n",
    "from phenopacket_mapper.data_standards import DataModel, ValueSet, DataSection, OrGroup"
   ],
   "outputs": [],
   "execution_count": 1
  },
  {
   "metadata": {},
   "cell_type": "code",
   "outputs": [],
   "execution_count": null,
   "source": [
    "genomic_interpretation = DataModel(\n",
    "    data_model_name=\"Phenopacket schema Genomic Interpretation\",\n",
    "    fields=(\n",
    "        DataField(\n",
    "            name=\"subject_or_biosample_id\",\n",
    "            specification=str,\n",
    "            required=True,\n",
    "            description=\"The id of the patient or biosample that is the subject being interpreted. REQUIRED.\"\n",
    "        ),\n",
    "        \n",
    "        DataField(\n",
    "            name=\"interpretation_status\",\n",
    "            specification=ValueSet(\n",
    "                name=\"Interpretation Status Value Set\",\n",
    "                elements=[\"UNKNOWN_STATUS\", \"REJECTED\", \"CANDIDATE\", \"CONTRIBUTORY\", \"CAUSATIVE\"],\n",
    "            ),\n",
    "            required=True,\n",
    "            description=\"status of the interpretation. REQUIRED.\",\n",
    "        ),\n",
    "        \n",
    "        DataSection(\n",
    "            name=\"call\",\n",
    "            fields=(\n",
    "                OrGroup(\n",
    "                    fields=(\n",
    "                        DataSection(\n",
    "                            name=\"GeneDescriptor\",\n",
    "                            fields=(\n",
    "                                DataField(\n",
    "                                    name=\"value_id\",\n",
    "                                    specification=str,\n",
    "                                    required=True,\n",
    "                                    description=\"Official identifier of the gene. REQUIRED.\"\n",
    "                                ),\n",
    "\n",
    "                                DataField(\n",
    "                                    name=\"symbol\",\n",
    "                                    specification=str,\n",
    "                                    required=True,\n",
    "                                    description=\"Official gene symbol. REQUIRED.\"\n",
    "                                ),\n",
    "\n",
    "                                DataField(\n",
    "                                    name=\"description\",\n",
    "                                    specification=str,\n",
    "                                    required=False,\n",
    "                                    description=\"A free-text description of the gene\"\n",
    "                                ),\n",
    "                            ),\n",
    "                        ),\n",
    "                        \n",
    "                        DataSection(\n",
    "                            \n",
    "                        ),\n",
    "                    )\n",
    "                ),\n",
    "            ),\n",
    "        ),\n",
    "    )\n",
    ")"
   ],
   "id": "2e979683ae450d9b"
  }
 ],
 "metadata": {
  "kernelspec": {
   "display_name": "Python 3",
   "language": "python",
   "name": "python3"
  },
  "language_info": {
   "codemirror_mode": {
    "name": "ipython",
    "version": 2
   },
   "file_extension": ".py",
   "mimetype": "text/x-python",
   "name": "python",
   "nbconvert_exporter": "python",
   "pygments_lexer": "ipython2",
   "version": "2.7.6"
  }
 },
 "nbformat": 4,
 "nbformat_minor": 5
}
