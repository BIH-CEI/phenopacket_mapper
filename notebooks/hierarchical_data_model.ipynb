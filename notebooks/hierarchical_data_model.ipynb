{
 "cells": [
  {
   "cell_type": "code",
   "id": "initial_id",
   "metadata": {
    "collapsed": true,
    "ExecuteTime": {
     "end_time": "2024-10-14T20:57:38.214684Z",
     "start_time": "2024-10-14T20:57:38.210273Z"
    }
   },
   "source": [
    "from phenopacket_mapper.data_standards import DataField\n",
    "from phenopacket_mapper.data_standards import DataModel, ValueSet, DataSection, OrGroup"
   ],
   "outputs": [],
   "execution_count": 6
  },
  {
   "metadata": {
    "ExecuteTime": {
     "end_time": "2024-10-14T20:57:38.231064Z",
     "start_time": "2024-10-14T20:57:38.224448Z"
    }
   },
   "cell_type": "code",
   "source": [
    "genomic_interpretation = DataModel(\n",
    "    data_model_name=\"Phenopacket schema Genomic Interpretation\",\n",
    "    fields=(\n",
    "        DataField(\n",
    "            name=\"subject_or_biosample_id\",\n",
    "            specification=str,\n",
    "            required=True,\n",
    "            description=\"The id of the patient or biosample that is the subject being interpreted. REQUIRED.\"\n",
    "        ),\n",
    "        \n",
    "        DataField(\n",
    "            name=\"interpretation_status\",\n",
    "            specification=ValueSet(\n",
    "                name=\"Interpretation Status Value Set\",\n",
    "                elements=[\"UNKNOWN_STATUS\", \"REJECTED\", \"CANDIDATE\", \"CONTRIBUTORY\", \"CAUSATIVE\"],\n",
    "            ),\n",
    "            required=True,\n",
    "            description=\"status of the interpretation. REQUIRED.\",\n",
    "        ),\n",
    "        \n",
    "        OrGroup(\n",
    "            name=\"call\",\n",
    "            fields=(\n",
    "                DataSection(\n",
    "                    name=\"GeneDescriptor\",\n",
    "                    fields=(\n",
    "                        DataField(\n",
    "                            name=\"value_id\",\n",
    "                            specification=str,\n",
    "                            required=True,\n",
    "                            description=\"Official identifier of the gene. REQUIRED.\"\n",
    "                        ),\n",
    "\n",
    "                        DataField(\n",
    "                            name=\"symbol\",\n",
    "                            specification=str,\n",
    "                            required=True,\n",
    "                            description=\"Official gene symbol. REQUIRED.\"\n",
    "                        ),\n",
    "\n",
    "                        DataField(\n",
    "                            name=\"description\",\n",
    "                            specification=str,\n",
    "                            required=False,\n",
    "                            description=\"A free-text description of the gene\"\n",
    "                        ),\n",
    "                    ),\n",
    "                ),\n",
    "            ),\n",
    "        ),\n",
    "    )\n",
    ")"
   ],
   "id": "2e979683ae450d9b",
   "outputs": [],
   "execution_count": 7
  },
  {
   "metadata": {
    "ExecuteTime": {
     "end_time": "2024-10-14T20:57:38.295528Z",
     "start_time": "2024-10-14T20:57:38.291141Z"
    }
   },
   "cell_type": "code",
   "source": "print(genomic_interpretation)",
   "id": "35a697d8b9b8236d",
   "outputs": [
    {
     "name": "stdout",
     "output_type": "stream",
     "text": [
      "DataModel(name=Phenopacket schema Genomic Interpretation\n",
      "\tDataField(\n",
      "\t\tid: subject_or_biosample_id,\n",
      "\t\tname: subject_or_biosample_id,\n",
      "\t\tvalue_set: ValueSet(elements=[<class 'str'>], name='', description=''), required: True,\n",
      "\t\tspecification: ValueSet(elements=[<class 'str'>], name='', description='')\n",
      "\t)\n",
      "\tDataField(\n",
      "\t\tid: interpretation_status,\n",
      "\t\tname: interpretation_status,\n",
      "\t\tvalue_set: ValueSet(elements=['UNKNOWN_STATUS', 'REJECTED', 'CANDIDATE', 'CONTRIBUTORY', 'CAUSATIVE'], name='Interpretation Status Value Set', description=''), required: True,\n",
      "\t\tspecification: ValueSet(elements=['UNKNOWN_STATUS', 'REJECTED', 'CANDIDATE', 'CONTRIBUTORY', 'CAUSATIVE'], name='Interpretation Status Value Set', description='')\n",
      "\t)\n",
      "\tDataSection(name='call', id='call', fields=(OrGroup(fields=(DataSection(name='GeneDescriptor', id='genedescriptor', fields=(DataField(name='value_id', specification=ValueSet(elements=[<class 'str'>], name='', description=''), id='value_id', required=True, description='Official identifier of the gene. REQUIRED.', cardinality=Cardinality(min=0, max='n')), DataField(name='symbol', specification=ValueSet(elements=[<class 'str'>], name='', description=''), id='symbol', required=True, description='Official gene symbol. REQUIRED.', cardinality=Cardinality(min=0, max='n')), DataField(name='description', specification=ValueSet(elements=[<class 'str'>], name='', description=''), id='description', required=False, description='A free-text description of the gene', cardinality=Cardinality(min=0, max='n'))), required=False, cardinality=Cardinality(min=0, max='n')),), name='Or Group', id='or_group', description='', required=False, cardinality=Cardinality(min=0, max='n')),), required=False, cardinality=Cardinality(min=0, max='n'))\n",
      "---\n",
      ")\n"
     ]
    }
   ],
   "execution_count": 8
  }
 ],
 "metadata": {
  "kernelspec": {
   "display_name": "Python 3",
   "language": "python",
   "name": "python3"
  },
  "language_info": {
   "codemirror_mode": {
    "name": "ipython",
    "version": 2
   },
   "file_extension": ".py",
   "mimetype": "text/x-python",
   "name": "python",
   "nbconvert_exporter": "python",
   "pygments_lexer": "ipython2",
   "version": "2.7.6"
  }
 },
 "nbformat": 4,
 "nbformat_minor": 5
}
