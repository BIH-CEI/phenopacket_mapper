{
 "cells": [
  {
   "cell_type": "code",
   "id": "initial_id",
   "metadata": {
    "collapsed": true,
    "ExecuteTime": {
     "end_time": "2024-10-17T11:40:00.972441Z",
     "start_time": "2024-10-17T11:40:00.967261Z"
    }
   },
   "source": [
    "from phenopacket_mapper.data_standards import DataModelInstance\n",
    "from phenopacket_mapper.data_standards import DataField\n",
    "from phenopacket_mapper.data_standards import DataModel, ValueSet, DataSection, OrGroup\n",
    "from phenopacket_mapper.data_standards.data_model import DataSectionInstance\n",
    "from phenopacket_mapper.utils.io import DataReader"
   ],
   "outputs": [],
   "execution_count": 8
  },
  {
   "metadata": {
    "ExecuteTime": {
     "end_time": "2024-10-17T11:40:00.995234Z",
     "start_time": "2024-10-17T11:40:00.978558Z"
    }
   },
   "cell_type": "code",
   "source": [
    "genomic_interpretation = DataModel(\n",
    "    data_model_name=\"Phenopacket schema Genomic Interpretation\",\n",
    "    fields=(\n",
    "        DataField(\n",
    "            name=\"subject_or_biosample_id\",\n",
    "            specification=str,\n",
    "            required=True,\n",
    "            description=\"The id of the patient or biosample that is the subject being interpreted. REQUIRED.\"\n",
    "        ),\n",
    "        \n",
    "        DataField(\n",
    "            name=\"interpretation_status\",\n",
    "            specification=ValueSet(\n",
    "                name=\"Interpretation Status Value Set\",\n",
    "                elements=[\"UNKNOWN_STATUS\", \"REJECTED\", \"CANDIDATE\", \"CONTRIBUTORY\", \"CAUSATIVE\"],\n",
    "            ),\n",
    "            required=True,\n",
    "            description=\"status of the interpretation. REQUIRED.\",\n",
    "        ),\n",
    "        \n",
    "        DataSection(\n",
    "            name=\"example\",\n",
    "            required=True,\n",
    "            fields=(\n",
    "                DataField(\n",
    "                    name=\"a_number\",\n",
    "                    required=True,\n",
    "                    specification=int,                    \n",
    "                ),\n",
    "            )\n",
    "        ),\n",
    "        \n",
    "        OrGroup(\n",
    "            name=\"call\",\n",
    "            fields=(\n",
    "                DataSection(\n",
    "                    name=\"GeneDescriptor\",\n",
    "                    fields=(\n",
    "                        DataField(\n",
    "                            name=\"value_id\",\n",
    "                            specification=str,\n",
    "                            required=True,\n",
    "                            description=\"Official identifier of the gene. REQUIRED.\"\n",
    "                        ),\n",
    "\n",
    "                        DataField(\n",
    "                            name=\"symbol\",\n",
    "                            specification=str,\n",
    "                            required=True,\n",
    "                            description=\"Official gene symbol. REQUIRED.\"\n",
    "                        ),\n",
    "\n",
    "                        DataField(\n",
    "                            name=\"description\",\n",
    "                            specification=str,\n",
    "                            required=False,\n",
    "                            description=\"A free-text description of the gene\"\n",
    "                        ),\n",
    "                    ),\n",
    "                ),\n",
    "            ),\n",
    "        ),\n",
    "    )\n",
    ")"
   ],
   "id": "2e979683ae450d9b",
   "outputs": [],
   "execution_count": 9
  },
  {
   "metadata": {
    "ExecuteTime": {
     "end_time": "2024-10-17T11:40:01.041106Z",
     "start_time": "2024-10-17T11:40:01.028028Z"
    }
   },
   "cell_type": "code",
   "source": "genomic_interpretation.example.a_number",
   "id": "a32bb965c37e98b4",
   "outputs": [
    {
     "data": {
      "text/plain": [
       "DataField(name='a_number', specification=ValueSet(elements=[<class 'int'>], name='', description=''), id='a_number', required=True, description='', cardinality=Cardinality(min=1, max='n'))"
      ]
     },
     "execution_count": 10,
     "metadata": {},
     "output_type": "execute_result"
    }
   ],
   "execution_count": 10
  },
  {
   "metadata": {
    "ExecuteTime": {
     "end_time": "2024-10-17T11:40:01.091102Z",
     "start_time": "2024-10-17T11:40:01.085216Z"
    }
   },
   "cell_type": "code",
   "source": [
    "s = str(genomic_interpretation)\n",
    "\n",
    "print(s)"
   ],
   "id": "35a697d8b9b8236d",
   "outputs": [
    {
     "name": "stdout",
     "output_type": "stream",
     "text": [
      "DataModel(\n",
      "\tname: Phenopacket schema Genomic Interpretation\n",
      "\tDataField(\n",
      "\t\tid: subject_or_biosample_id,\n",
      "\t\tname: subject_or_biosample_id,\n",
      "\t\trequired: True\n",
      "\t\tspecification: ValueSet(elements=[<class 'str'>], name='', description='')\n",
      "\t\tcardinality: 1..n\n",
      "\t)\n",
      "\tDataField(\n",
      "\t\tid: interpretation_status,\n",
      "\t\tname: interpretation_status,\n",
      "\t\trequired: True\n",
      "\t\tspecification: ValueSet(elements=['UNKNOWN_STATUS', 'REJECTED', 'CANDIDATE', 'CONTRIBUTORY', 'CAUSATIVE'], name='Interpretation Status Value Set', description='')\n",
      "\t\tcardinality: 1..n\n",
      "\t)\n",
      "\tDataSection(\n",
      "\t\tid: example,\n",
      "\t\tname: example,\n",
      "\t\trequired: True\n",
      "\t\tcardinality: 1..n\n",
      "\tDataField(\n",
      "\t\tid: a_number,\n",
      "\t\tname: a_number,\n",
      "\t\trequired: True\n",
      "\t\tspecification: ValueSet(elements=[<class 'int'>], name='', description='')\n",
      "\t\tcardinality: 1..n\n",
      "\t)\n",
      "\t)\n",
      "\tOrGroup(\n",
      "\t\tid: call,\n",
      "\t\tname: call,\n",
      "\t\trequired: False\n",
      "\t\tcardinality: 0..n\n",
      "\tDataSection(\n",
      "\t\tid: genedescriptor,\n",
      "\t\tname: GeneDescriptor,\n",
      "\t\trequired: False\n",
      "\t\tcardinality: 0..n\n",
      "\tDataField(\n",
      "\t\tid: value_id,\n",
      "\t\tname: value_id,\n",
      "\t\trequired: True\n",
      "\t\tspecification: ValueSet(elements=[<class 'str'>], name='', description='')\n",
      "\t\tcardinality: 1..n\n",
      "\t)\n",
      "\tDataField(\n",
      "\t\tid: symbol,\n",
      "\t\tname: symbol,\n",
      "\t\trequired: True\n",
      "\t\tspecification: ValueSet(elements=[<class 'str'>], name='', description='')\n",
      "\t\tcardinality: 1..n\n",
      "\t)\n",
      "\tDataField(\n",
      "\t\tid: description,\n",
      "\t\tname: description,\n",
      "\t\trequired: False\n",
      "\t\tspecification: ValueSet(elements=[<class 'str'>], name='', description='')\n",
      "\t\tcardinality: 0..n\n",
      "\t)\n",
      "\t)\n",
      "\t)\n",
      "---\n",
      ")\n"
     ]
    }
   ],
   "execution_count": 11
  },
  {
   "metadata": {
    "ExecuteTime": {
     "end_time": "2024-10-17T11:40:01.158069Z",
     "start_time": "2024-10-17T11:40:01.152182Z"
    }
   },
   "cell_type": "code",
   "source": [
    "from io import StringIO\n",
    "\n",
    "xml_data = \\\n",
    "    (\n",
    "        '<?xml version=\"1.0\" encoding=\"UTF-8\" ?> <ODM xmlns=\"http://www.cdisc.org/ns/odm/v1.3\" xmlns:ds=\"http://www.w3.org/2000/09/xmldsig#\" xmlns:xsi=\"http://www.w3.org/2001/XMLSchema-instance\" xmlns:redcap=\"https://projectredcap.org\" xsi:schemaLocation=\"http://www.cdisc.org/ns/odm/v1.3 schema/odm/ODM1-3-1.xsd\" ODMVersion=\"1.3.1\" FileOID=\"000-00-0000\" FileType=\"Snapshot\" Description=\"genAdipositas - ALT Demo\" AsOfDateTime=\"2024-10-14T11:57:18\" CreationDateTime=\"2024-10-14T11:57:18\" SourceSystem=\"REDCap\" SourceSystemVersion=\"14.6.9\"> '\n",
    "        '<ClinicalData StudyOID=\"Project.GenAdipositasALTDemo\" MetaDataVersionOID=\"Metadata.GenAdipositasALTDemo_2024-10-14_1157\">'\n",
    "        '<SubjectData SubjectKey=\"101\" redcap:RecordIdField=\"record_id\">'\n",
    "            '<ANumber>123</ANumber>'\n",
    "        '</SubjectData>'\n",
    "        '</ClinicalData>'\n",
    "        '</ODM>'\n",
    "    )\n",
    "\n",
    "buffer = StringIO(xml_data)"
   ],
   "id": "4c78eb05ea58ff6c",
   "outputs": [],
   "execution_count": 12
  },
  {
   "metadata": {
    "ExecuteTime": {
     "end_time": "2024-10-17T11:40:01.190285Z",
     "start_time": "2024-10-17T11:40:01.170449Z"
    }
   },
   "cell_type": "code",
   "source": [
    "import warnings\n",
    "from phenopacket_mapper.data_standards import DataFieldValue\n",
    "import math\n",
    "from io import IOBase\n",
    "from pathlib import Path\n",
    "from typing import Union, List, Literal, Dict\n",
    "\n",
    "from phenopacket_mapper.utils import parsing\n",
    "    \n",
    "def load_hierarchical_data_recursive(\n",
    "        loaded_data_instance_identifier: Union[int, str],\n",
    "        loaded_data_instance: Dict,\n",
    "        data_model: Union[DataModel, DataSection, OrGroup, DataField],\n",
    "        compliance: Literal['lenient', 'strict'] = 'lenient',\n",
    "        mapping: Dict[DataField, str] = None,\n",
    "):\n",
    "    \"\"\"Helper method for `load_hierarchical_data`, recurses through hierarchical :class:`DataModel`\n",
    "    \n",
    "    `loaded_data_instance` is expected to be a dictionary as returned by `DataReader.data` when reading a single xml or json file \n",
    "    \n",
    "    :param loaded_data_instance_identifier: identifier of the loaded data_instance\n",
    "    :param loaded_data_instance: data loaded in by :class:`DataReader`\n",
    "    :param data_model:\n",
    "    :param compliance: Compliance level to enforce when reading the file. If 'lenient', the file can have extra fields\n",
    "                        that are not in the DataModel. If 'strict', the file must have all fields in the DataModel.\n",
    "    :param mapping: specifies the mapping from data fields present in the data model to identifiers of fields in the data\n",
    "    \"\"\"\n",
    "    if isinstance(data_model, DataModel):\n",
    "        return (\n",
    "            load_hierarchical_data_recursive(\n",
    "                loaded_data_instance_identifier=loaded_data_instance_identifier,\n",
    "                loaded_data_instance=loaded_data_instance,\n",
    "                data_model=f,\n",
    "                compliance=compliance,\n",
    "                mapping=mapping\n",
    "            )\n",
    "            for f in data_model.fields\n",
    "        )\n",
    "    elif isinstance(data_model, DataSection):\n",
    "        data_section: DataSection = data_model\n",
    "        \n",
    "        values = (\n",
    "            load_hierarchical_data_recursive(\n",
    "                loaded_data_instance_identifier=loaded_data_instance_identifier,\n",
    "                loaded_data_instance=loaded_data_instance,\n",
    "                data_model=f,\n",
    "                compliance=compliance,\n",
    "                mapping=mapping,\n",
    "            )\n",
    "            for f in data_section.fields\n",
    "        )\n",
    "        \n",
    "        return DataSectionInstance(\n",
    "            identifier=str(loaded_data_instance_identifier) + \":\" + data_section.id,  # TODO: get identifiers of parents\n",
    "            data_section=data_section,\n",
    "            values=values,\n",
    "        )\n",
    "    elif isinstance(data_model, OrGroup):\n",
    "        # TODO: resolve or this seems to be very difficult\n",
    "        pass\n",
    "    elif isinstance(data_model, DataField):\n",
    "        data_field = data_model\n",
    "        \n",
    "        keys_str = mapping.get(data_model, None)\n",
    "        \n",
    "        if keys_str:\n",
    "            keys = keys_str.split('.')\n",
    "            dict_value = recursive_dict_call(loaded_data_instance, keys)\n",
    "\n",
    "            if not dict_value or (isinstance(dict_value, float) and math.isnan(dict_value)):\n",
    "                return None\n",
    "\n",
    "            value_str = str(dict_value)\n",
    "            value = parsing.parse_value(value_str=value_str, resources=data_model.resources, compliance=compliance)\n",
    "            data_field_value = DataFieldValue(\n",
    "                row_no=str(loaded_data_instance_identifier) + \":\" + keys_str, \n",
    "                field=data_field, \n",
    "                value=value\n",
    "            )\n",
    "\n",
    "            return data_field_value\n",
    "    else:\n",
    "        err_msg = f\"DataModel {data_model} is not a valid type ({type(data_model)}).\"\n",
    "        if compliance == 'strict':\n",
    "            raise ValueError(err_msg)\n",
    "        elif compliance == 'lenient':\n",
    "            warnings.warn(err_msg)\n",
    "        else:\n",
    "            raise ValueError(f\"Invalid compliance level: {compliance}\")\n",
    "        \n",
    "\n",
    "def load_hierarchical_data(\n",
    "        file: Union[str, Path, IOBase, List[str], List[Path], List[IOBase]], \n",
    "        data_model: DataModel, \n",
    "        file_extension: Literal['csv', 'xlsx', 'json', 'xml'] = None,\n",
    "        compliance: Literal['lenient', 'strict'] = 'lenient',\n",
    "        mapping: Dict[DataField, str] = None,\n",
    "):  \n",
    "    if not mapping:\n",
    "        raise AttributeError(f\"Parameter 'mapping' must not be empty or None. {mapping=}, {type(mapping)=}\")\n",
    "    \n",
    "    if not data_model.is_hierarchical:\n",
    "        warnings.warn(\"This method is only for loading hierarchical data, it may behave unexpectedly for tabular data.\")\n",
    "    \n",
    "    data_reader = DataReader(file, file_extension=file_extension)\n",
    "    data, data_iterable = data_reader.data, data_reader.iterable\n",
    "    \n",
    "    # assembling data model instances\n",
    "    data_model_instances = []\n",
    "    \n",
    "    for i, data_instance in enumerate(data_iterable):\n",
    "        data_model_instances.append(\n",
    "            DataModelInstance(\n",
    "                row_no=i,\n",
    "                data_model=data_model,\n",
    "                values=load_hierarchical_data_recursive(\n",
    "                    loaded_data_instance_identifier=str(i),\n",
    "                    loaded_data_instance=data_instance,\n",
    "                    data_model=data_model,\n",
    "                    compliance=compliance,\n",
    "                    mapping=mapping\n",
    "                ),\n",
    "                compliance=compliance,\n",
    "            )\n",
    "        )\n",
    "        "
   ],
   "id": "affc9ecd939c903f",
   "outputs": [],
   "execution_count": 13
  },
  {
   "metadata": {
    "ExecuteTime": {
     "end_time": "2024-10-17T11:40:01.226816Z",
     "start_time": "2024-10-17T11:40:01.203147Z"
    }
   },
   "cell_type": "code",
   "source": [
    "data_model_instance = load_hierarchical_data(\n",
    "    file=buffer, \n",
    "    data_model=genomic_interpretation, \n",
    "    file_extension=\"xml\",\n",
    "    mapping={\n",
    "        genomic_interpretation.subject_or_biosample_id: \"ODM.ClinicalData.SubjectData.SubjectKey\",\n",
    "        genomic_interpretation.example.a_number: \"ODM.ClinicalData.SubjectData.ANumber\",\n",
    "    }\n",
    ")"
   ],
   "id": "53937efded7f589f",
   "outputs": [
    {
     "ename": "TypeError",
     "evalue": "unhashable type: 'list'",
     "output_type": "error",
     "traceback": [
      "\u001B[1;31m---------------------------------------------------------------------------\u001B[0m",
      "\u001B[1;31mTypeError\u001B[0m                                 Traceback (most recent call last)",
      "Cell \u001B[1;32mIn[14], line 5\u001B[0m\n\u001B[0;32m      1\u001B[0m data_model_instance \u001B[38;5;241m=\u001B[39m load_hierarchical_data(\n\u001B[0;32m      2\u001B[0m     file\u001B[38;5;241m=\u001B[39mbuffer, \n\u001B[0;32m      3\u001B[0m     data_model\u001B[38;5;241m=\u001B[39mgenomic_interpretation, \n\u001B[0;32m      4\u001B[0m     file_extension\u001B[38;5;241m=\u001B[39m\u001B[38;5;124m\"\u001B[39m\u001B[38;5;124mxml\u001B[39m\u001B[38;5;124m\"\u001B[39m,\n\u001B[1;32m----> 5\u001B[0m     mapping\u001B[38;5;241m=\u001B[39m{\n\u001B[0;32m      6\u001B[0m         genomic_interpretation\u001B[38;5;241m.\u001B[39msubject_or_biosample_id: \u001B[38;5;124m\"\u001B[39m\u001B[38;5;124mODM.ClinicalData.SubjectData.SubjectKey\u001B[39m\u001B[38;5;124m\"\u001B[39m,\n\u001B[0;32m      7\u001B[0m         genomic_interpretation\u001B[38;5;241m.\u001B[39mexample\u001B[38;5;241m.\u001B[39ma_number: \u001B[38;5;124m\"\u001B[39m\u001B[38;5;124mODM.ClinicalData.SubjectData.ANumber\u001B[39m\u001B[38;5;124m\"\u001B[39m,\n\u001B[0;32m      8\u001B[0m     }\n\u001B[0;32m      9\u001B[0m )\n",
      "File \u001B[1;32m<string>:3\u001B[0m, in \u001B[0;36m__hash__\u001B[1;34m(self)\u001B[0m\n",
      "File \u001B[1;32m<string>:3\u001B[0m, in \u001B[0;36m__hash__\u001B[1;34m(self)\u001B[0m\n",
      "\u001B[1;31mTypeError\u001B[0m: unhashable type: 'list'"
     ]
    }
   ],
   "execution_count": 14
  },
  {
   "metadata": {},
   "cell_type": "code",
   "source": "",
   "id": "edbf8ad0a0a55290",
   "outputs": [],
   "execution_count": null
  }
 ],
 "metadata": {
  "kernelspec": {
   "display_name": "Python 3",
   "language": "python",
   "name": "python3"
  },
  "language_info": {
   "codemirror_mode": {
    "name": "ipython",
    "version": 2
   },
   "file_extension": ".py",
   "mimetype": "text/x-python",
   "name": "python",
   "nbconvert_exporter": "python",
   "pygments_lexer": "ipython2",
   "version": "2.7.6"
  }
 },
 "nbformat": 4,
 "nbformat_minor": 5
}
