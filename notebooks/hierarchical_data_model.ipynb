{
 "cells": [
  {
   "cell_type": "code",
   "id": "initial_id",
   "metadata": {
    "collapsed": true,
    "jupyter": {
     "is_executing": true
    },
    "ExecuteTime": {
     "end_time": "2024-10-17T14:32:54.331162Z",
     "start_time": "2024-10-17T14:32:53.655680Z"
    }
   },
   "source": [
    "from phenopacket_mapper.data_standards import DataField\n",
    "from phenopacket_mapper.data_standards import DataModel, ValueSet, DataSection, OrGroup, Cardinality"
   ],
   "outputs": [],
   "execution_count": 1
  },
  {
   "metadata": {
    "ExecuteTime": {
     "end_time": "2024-10-17T14:32:54.337765Z",
     "start_time": "2024-10-17T14:32:54.332166Z"
    }
   },
   "cell_type": "code",
   "source": [
    "genomic_interpretation = DataModel(\n",
    "    name=\"Phenopacket schema Genomic Interpretation\",\n",
    "    fields=(\n",
    "        DataField(\n",
    "            name=\"subject_or_biosample_id\",\n",
    "            specification=str,\n",
    "            required=True,\n",
    "            description=\"The id of the patient or biosample that is the subject being interpreted. REQUIRED.\",\n",
    "            cardinality=Cardinality.ONE,\n",
    "        ),\n",
    "        \n",
    "        DataField(\n",
    "            name=\"interpretation_status\",\n",
    "            specification=ValueSet(\n",
    "                name=\"Interpretation Status Value Set\",\n",
    "                elements=(\"UNKNOWN_STATUS\", \"REJECTED\", \"CANDIDATE\", \"CONTRIBUTORY\", \"CAUSATIVE\"),\n",
    "            ),\n",
    "            required=True,\n",
    "            description=\"status of the interpretation. REQUIRED.\",\n",
    "        ),\n",
    "        \n",
    "        DataSection(\n",
    "            name=\"example\",\n",
    "            required=True,\n",
    "            fields=(\n",
    "                DataField(\n",
    "                    name=\"a_number\",\n",
    "                    required=True,\n",
    "                    specification=int,                    \n",
    "                ),\n",
    "            )\n",
    "        ),\n",
    "        \n",
    "        OrGroup(\n",
    "            name=\"call\",\n",
    "            fields=(\n",
    "                DataSection(\n",
    "                    name=\"GeneDescriptor\",\n",
    "                    fields=(\n",
    "                        DataField(\n",
    "                            name=\"value_id\",\n",
    "                            specification=str,\n",
    "                            required=True,\n",
    "                            description=\"Official identifier of the gene. REQUIRED.\"\n",
    "                        ),\n",
    "\n",
    "                        DataField(\n",
    "                            name=\"symbol\",\n",
    "                            specification=str,\n",
    "                            required=True,\n",
    "                            description=\"Official gene symbol. REQUIRED.\"\n",
    "                        ),\n",
    "\n",
    "                        DataField(\n",
    "                            name=\"description\",\n",
    "                            specification=str,\n",
    "                            required=False,\n",
    "                            description=\"A free-text description of the gene\"\n",
    "                        ),\n",
    "                    ),\n",
    "                ),\n",
    "            ),\n",
    "        ),\n",
    "    )\n",
    ")"
   ],
   "id": "2e979683ae450d9b",
   "outputs": [],
   "execution_count": 2
  },
  {
   "metadata": {
    "ExecuteTime": {
     "end_time": "2024-10-17T14:32:54.347454Z",
     "start_time": "2024-10-17T14:32:54.338770Z"
    }
   },
   "cell_type": "code",
   "source": [
    "genomic_interpretation.example.a_number"
   ],
   "id": "a32bb965c37e98b4",
   "outputs": [
    {
     "data": {
      "text/plain": "DataField(name='a_number', specification=ValueSet(elements=(<class 'int'>,), name='', description=''), id='a_number', required=True, description='', cardinality=Cardinality(min=1, max='n'))"
     },
     "execution_count": 3,
     "metadata": {},
     "output_type": "execute_result"
    }
   ],
   "execution_count": 3
  },
  {
   "metadata": {
    "ExecuteTime": {
     "end_time": "2024-10-17T14:32:54.353263Z",
     "start_time": "2024-10-17T14:32:54.348460Z"
    }
   },
   "cell_type": "code",
   "source": [
    "s = str(genomic_interpretation)\n",
    "\n",
    "print(s)"
   ],
   "id": "35a697d8b9b8236d",
   "outputs": [
    {
     "name": "stdout",
     "output_type": "stream",
     "text": [
      "DataModel(\n",
      "\tname: Phenopacket schema Genomic Interpretation\n",
      "\tDataField(\n",
      "\t\tid: subject_or_biosample_id,\n",
      "\t\tname: subject_or_biosample_id,\n",
      "\t\trequired: True\n",
      "\t\tspecification: ValueSet(elements=(<class 'str'>,), name='', description='')\n",
      "\t\tcardinality: 1..1\n",
      "\t)\n",
      "\tDataField(\n",
      "\t\tid: interpretation_status,\n",
      "\t\tname: interpretation_status,\n",
      "\t\trequired: True\n",
      "\t\tspecification: ValueSet(elements=('UNKNOWN_STATUS', 'REJECTED', 'CANDIDATE', 'CONTRIBUTORY', 'CAUSATIVE'), name='Interpretation Status Value Set', description='')\n",
      "\t\tcardinality: 1..n\n",
      "\t)\n",
      "\tDataSection(\n",
      "\t\tid: example,\n",
      "\t\tname: example,\n",
      "\t\trequired: True\n",
      "\t\tcardinality: 1..n\n",
      "\tDataField(\n",
      "\t\tid: a_number,\n",
      "\t\tname: a_number,\n",
      "\t\trequired: True\n",
      "\t\tspecification: ValueSet(elements=(<class 'int'>,), name='', description='')\n",
      "\t\tcardinality: 1..n\n",
      "\t)\n",
      "\t)\n",
      "\tOrGroup(\n",
      "\t\tid: call,\n",
      "\t\tname: call,\n",
      "\t\trequired: False\n",
      "\t\tcardinality: 0..n\n",
      "\tDataSection(\n",
      "\t\tid: genedescriptor,\n",
      "\t\tname: GeneDescriptor,\n",
      "\t\trequired: False\n",
      "\t\tcardinality: 0..n\n",
      "\tDataField(\n",
      "\t\tid: value_id,\n",
      "\t\tname: value_id,\n",
      "\t\trequired: True\n",
      "\t\tspecification: ValueSet(elements=(<class 'str'>,), name='', description='')\n",
      "\t\tcardinality: 1..n\n",
      "\t)\n",
      "\tDataField(\n",
      "\t\tid: symbol,\n",
      "\t\tname: symbol,\n",
      "\t\trequired: True\n",
      "\t\tspecification: ValueSet(elements=(<class 'str'>,), name='', description='')\n",
      "\t\tcardinality: 1..n\n",
      "\t)\n",
      "\tDataField(\n",
      "\t\tid: description,\n",
      "\t\tname: description,\n",
      "\t\trequired: False\n",
      "\t\tspecification: ValueSet(elements=(<class 'str'>,), name='', description='')\n",
      "\t\tcardinality: 0..n\n",
      "\t)\n",
      "\t)\n",
      "\t)\n",
      "---\n",
      ")\n"
     ]
    }
   ],
   "execution_count": 4
  },
  {
   "metadata": {
    "ExecuteTime": {
     "end_time": "2024-10-17T14:32:54.358199Z",
     "start_time": "2024-10-17T14:32:54.354267Z"
    }
   },
   "cell_type": "code",
   "source": [
    "from io import StringIO\n",
    "\n",
    "xml_data = [\n",
    "        '<?xml version=\"1.0\" encoding=\"UTF-8\" ?> <ODM xmlns=\"http://www.cdisc.org/ns/odm/v1.3\" xmlns:ds=\"http://www.w3.org/2000/09/xmldsig#\" xmlns:xsi=\"http://www.w3.org/2001/XMLSchema-instance\" xmlns:redcap=\"https://projectredcap.org\" xsi:schemaLocation=\"http://www.cdisc.org/ns/odm/v1.3 schema/odm/ODM1-3-1.xsd\" ODMVersion=\"1.3.1\" FileOID=\"000-00-0000\" FileType=\"Snapshot\" Description=\"genAdipositas - ALT Demo\" AsOfDateTime=\"2024-10-14T11:57:18\" CreationDateTime=\"2024-10-14T11:57:18\" SourceSystem=\"REDCap\" SourceSystemVersion=\"14.6.9\"> '\n",
    "        '<ClinicalData StudyOID=\"Project.GenAdipositasALTDemo\" MetaDataVersionOID=\"Metadata.GenAdipositasALTDemo_2024-10-14_1157\">'\n",
    "        '<SubjectData SubjectKey=\"101\" redcap:RecordIdField=\"record_id\">'\n",
    "            '<ANumber>123</ANumber>'\n",
    "        '</SubjectData>'\n",
    "        '</ClinicalData>'\n",
    "        '</ODM>',\n",
    "        '<?xml version=\"1.0\" encoding=\"UTF-8\" ?> <ODM xmlns=\"http://www.cdisc.org/ns/odm/v1.3\" xmlns:ds=\"http://www.w3.org/2000/09/xmldsig#\" xmlns:xsi=\"http://www.w3.org/2001/XMLSchema-instance\" xmlns:redcap=\"https://projectredcap.org\" xsi:schemaLocation=\"http://www.cdisc.org/ns/odm/v1.3 schema/odm/ODM1-3-1.xsd\" ODMVersion=\"1.3.1\" FileOID=\"000-00-0000\" FileType=\"Snapshot\" Description=\"genAdipositas - ALT Demo\" AsOfDateTime=\"2024-10-14T11:57:18\" CreationDateTime=\"2024-10-14T11:57:18\" SourceSystem=\"REDCap\" SourceSystemVersion=\"14.6.9\"> '\n",
    "        '<ClinicalData StudyOID=\"Project.GenAdipositasALTDemo\" MetaDataVersionOID=\"Metadata.GenAdipositasALTDemo_2024-10-14_1157\">'\n",
    "        '<SubjectData SubjectKey=\"102\" redcap:RecordIdField=\"record_id\">'\n",
    "        '<ANumber>124</ANumber>'\n",
    "        '</SubjectData>'\n",
    "        '</ClinicalData>'\n",
    "        '</ODM>',\n",
    "    ]"
   ],
   "id": "4c78eb05ea58ff6c",
   "outputs": [],
   "execution_count": 5
  },
  {
   "metadata": {
    "ExecuteTime": {
     "end_time": "2024-10-17T14:32:54.363102Z",
     "start_time": "2024-10-17T14:32:54.359203Z"
    }
   },
   "cell_type": "code",
   "source": [
    "genomic_interpretation.subject_or_biosample_id"
   ],
   "id": "bb5e27f9e1425b78",
   "outputs": [
    {
     "data": {
      "text/plain": "DataField(name='subject_or_biosample_id', specification=ValueSet(elements=(<class 'str'>,), name='', description=''), id='subject_or_biosample_id', required=True, description='The id of the patient or biosample that is the subject being interpreted. REQUIRED.', cardinality=Cardinality(min=1, max=1))"
     },
     "execution_count": 6,
     "metadata": {},
     "output_type": "execute_result"
    }
   ],
   "execution_count": 6
  },
  {
   "cell_type": "code",
   "outputs": [],
   "source": [
    "from phenopacket_mapper.utils.io import load_hierarchical_data, DataReader\n",
    "from phenopacket_mapper.utils.io.input import load_hierarchical_data_recursive"
   ],
   "metadata": {
    "ExecuteTime": {
     "end_time": "2024-10-17T14:32:54.366626Z",
     "start_time": "2024-10-17T14:32:54.364109Z"
    }
   },
   "id": "f7fdfee60f008e07",
   "execution_count": 7
  },
  {
   "cell_type": "markdown",
   "source": [
    "loading value"
   ],
   "metadata": {
    "collapsed": false
   },
   "id": "f1b55844653c9d79"
  },
  {
   "cell_type": "code",
   "outputs": [
    {
     "name": "stdout",
     "output_type": "stream",
     "text": [
      "--------------------------------------------------------------------------------\n",
      "DataFieldValue(id='value:ODM.ClinicalData.SubjectData.SubjectKey', field=DataField(name='subject_or_biosample_id', specification=ValueSet(elements=(<class 'str'>,), name='', description=''), id='subject_or_biosample_id', required=True, description='The id of the patient or biosample that is the subject being interpreted. REQUIRED.', cardinality=Cardinality(min=1, max=1)), value=101)\n"
     ]
    }
   ],
   "source": [
    "data_reader = DataReader(\n",
    "    file=StringIO(xml_data[0]),\n",
    "    file_extension=\"xml\",\n",
    ")\n",
    "tmp = load_hierarchical_data_recursive(\n",
    "    loaded_data_instance_identifier=\"value\",\n",
    "    loaded_data_instance=data_reader.data, \n",
    "    data_model=genomic_interpretation.subject_or_biosample_id, \n",
    "    mapping={\n",
    "        genomic_interpretation.subject_or_biosample_id: \"ODM.ClinicalData.SubjectData.SubjectKey\",\n",
    "        genomic_interpretation.example.a_number: \"ODM.ClinicalData.SubjectData.ANumber\",\n",
    "    },\n",
    "    resources=tuple(),\n",
    ")\n",
    "print(\"-\"*80)\n",
    "print(tmp)"
   ],
   "metadata": {
    "collapsed": false,
    "ExecuteTime": {
     "end_time": "2024-10-17T14:32:54.371692Z",
     "start_time": "2024-10-17T14:32:54.367631Z"
    }
   },
   "id": "9f358144800fb41c",
   "execution_count": 8
  },
  {
   "cell_type": "markdown",
   "source": [
    "loading section"
   ],
   "metadata": {
    "collapsed": false
   },
   "id": "fe27e2fdc8207bef"
  },
  {
   "cell_type": "code",
   "outputs": [
    {
     "name": "stdout",
     "output_type": "stream",
     "text": [
      "--------------------------------------------------------------------------------\n",
      "DataSectionInstance(id='section:example', section=DataSection(name='example', id='example', fields=(DataField(name='a_number', specification=ValueSet(elements=(<class 'int'>,), name='', description=''), id='a_number', required=True, description='', cardinality=Cardinality(min=1, max='n')),), required=True, cardinality=Cardinality(min=1, max='n')), values=(DataFieldValue(id='section:ODM.ClinicalData.SubjectData.ANumber', field=DataField(name='a_number', specification=ValueSet(elements=(<class 'int'>,), name='', description=''), id='a_number', required=True, description='', cardinality=Cardinality(min=1, max='n')), value=123),))\n"
     ]
    }
   ],
   "source": [
    "data_reader = DataReader(\n",
    "    file=StringIO(xml_data[0]),\n",
    "    file_extension=\"xml\",\n",
    ")\n",
    "tmp = load_hierarchical_data_recursive(\n",
    "    loaded_data_instance_identifier=\"section\",\n",
    "    loaded_data_instance=data_reader.data,\n",
    "    data_model=genomic_interpretation.example,\n",
    "    mapping={\n",
    "        genomic_interpretation.subject_or_biosample_id: \"ODM.ClinicalData.SubjectData.SubjectKey\",\n",
    "        genomic_interpretation.example.a_number: \"ODM.ClinicalData.SubjectData.ANumber\",\n",
    "    },\n",
    "    resources=tuple(),\n",
    ")\n",
    "print(\"-\"*80)\n",
    "print(tmp)"
   ],
   "metadata": {
    "collapsed": false,
    "ExecuteTime": {
     "end_time": "2024-10-17T14:32:54.375786Z",
     "start_time": "2024-10-17T14:32:54.372696Z"
    }
   },
   "id": "dae94d0e649a0120",
   "execution_count": 9
  },
  {
   "cell_type": "markdown",
   "source": [
    "loading instance"
   ],
   "metadata": {
    "collapsed": false
   },
   "id": "7bb09fcfb7061e7d"
  },
  {
   "metadata": {
    "ExecuteTime": {
     "end_time": "2024-10-17T14:32:54.380021Z",
     "start_time": "2024-10-17T14:32:54.375786Z"
    }
   },
   "cell_type": "code",
   "source": [
    "data_model_instance = load_hierarchical_data(\n",
    "    file=StringIO(xml_data[0]), \n",
    "    data_model=genomic_interpretation, \n",
    "    file_extension=\"xml\",\n",
    "    mapping={\n",
    "        genomic_interpretation.subject_or_biosample_id: \"ODM.ClinicalData.SubjectData.SubjectKey\",\n",
    "        genomic_interpretation.example.a_number: \"ODM.ClinicalData.SubjectData.ANumber\",\n",
    "    }\n",
    ")\n",
    "print(data_model_instance)"
   ],
   "id": "53937efded7f589f",
   "outputs": [
    {
     "name": "stdout",
     "output_type": "stream",
     "text": [
      "DataModelInstance(id='PLACEHOLDER_IDENTIFIER', data_model=DataModel(name='Phenopacket schema Genomic Interpretation', fields=(DataField(name='subject_or_biosample_id', specification=ValueSet(elements=(<class 'str'>,), name='', description=''), id='subject_or_biosample_id', required=True, description='The id of the patient or biosample that is the subject being interpreted. REQUIRED.', cardinality=Cardinality(min=1, max=1)), DataField(name='interpretation_status', specification=ValueSet(elements=('UNKNOWN_STATUS', 'REJECTED', 'CANDIDATE', 'CONTRIBUTORY', 'CAUSATIVE'), name='Interpretation Status Value Set', description=''), id='interpretation_status', required=True, description='status of the interpretation. REQUIRED.', cardinality=Cardinality(min=1, max='n')), DataSection(name='example', id='example', fields=(DataField(name='a_number', specification=ValueSet(elements=(<class 'int'>,), name='', description=''), id='a_number', required=True, description='', cardinality=Cardinality(min=1, max='n')),), required=True, cardinality=Cardinality(min=1, max='n')), OrGroup(fields=(DataSection(name='GeneDescriptor', id='genedescriptor', fields=(DataField(name='value_id', specification=ValueSet(elements=(<class 'str'>,), name='', description=''), id='value_id', required=True, description='Official identifier of the gene. REQUIRED.', cardinality=Cardinality(min=1, max='n')), DataField(name='symbol', specification=ValueSet(elements=(<class 'str'>,), name='', description=''), id='symbol', required=True, description='Official gene symbol. REQUIRED.', cardinality=Cardinality(min=1, max='n')), DataField(name='description', specification=ValueSet(elements=(<class 'str'>,), name='', description=''), id='description', required=False, description='A free-text description of the gene', cardinality=Cardinality(min=0, max='n'))), required=False, cardinality=Cardinality(min=0, max='n')),), name='call', id='call', description='', required=False, cardinality=Cardinality(min=0, max='n'))), id='phenopacket_schema_genomic_interpretation', resources=()), values=(DataFieldValue(id='PLACEHOLDER_IDENTIFIER:ODM.ClinicalData.SubjectData.SubjectKey', field=DataField(name='subject_or_biosample_id', specification=ValueSet(elements=(<class 'str'>,), name='', description=''), id='subject_or_biosample_id', required=True, description='The id of the patient or biosample that is the subject being interpreted. REQUIRED.', cardinality=Cardinality(min=1, max=1)), value=101), DataSectionInstance(id='PLACEHOLDER_IDENTIFIER:example', section=DataSection(name='example', id='example', fields=(DataField(name='a_number', specification=ValueSet(elements=(<class 'int'>,), name='', description=''), id='a_number', required=True, description='', cardinality=Cardinality(min=1, max='n')),), required=True, cardinality=Cardinality(min=1, max='n')), values=(DataFieldValue(id='PLACEHOLDER_IDENTIFIER:ODM.ClinicalData.SubjectData.ANumber', field=DataField(name='a_number', specification=ValueSet(elements=(<class 'int'>,), name='', description=''), id='a_number', required=True, description='', cardinality=Cardinality(min=1, max='n')), value=123),))), compliance='lenient')\n"
     ]
    },
    {
     "name": "stderr",
     "output_type": "stream",
     "text": [
      "C:\\Users\\filip\\OneDrive\\Documents\\dataspell\\phenopacket_mapper\\src\\phenopacket_mapper\\data_standards\\data_model.py:296: UserWarning: Value 101 of type <class 'int'> is not in the value set of field subject_or_biosample_id (row PLACEHOLDER_IDENTIFIER:ODM.ClinicalData.SubjectData.SubjectKey)\n",
      "  warnings.warn(f\"Value {self.value} of type {type(self.value)} is not in the value set of field \"\n",
      "C:\\Users\\filip\\OneDrive\\Documents\\dataspell\\phenopacket_mapper\\src\\phenopacket_mapper\\data_standards\\data_model.py:354: UserWarning: Instance values do not comply with their respective fields' valuesets. (row PLACEHOLDER_IDENTIFIER)\n",
      "  warnings.warn(error_msg)\n"
     ]
    }
   ],
   "execution_count": 10
  },
  {
   "cell_type": "markdown",
   "source": [
    "laoding dataset"
   ],
   "metadata": {
    "collapsed": false
   },
   "id": "66064a72ed75ef3e"
  },
  {
   "cell_type": "code",
   "outputs": [],
   "source": [
    "from phenopacket_mapper.utils.io.input import load_hierarchical_dataset"
   ],
   "metadata": {
    "collapsed": false,
    "ExecuteTime": {
     "end_time": "2024-10-17T14:32:54.383585Z",
     "start_time": "2024-10-17T14:32:54.380021Z"
    }
   },
   "id": "440c1a2d269dd7ce",
   "execution_count": 11
  },
  {
   "metadata": {
    "ExecuteTime": {
     "end_time": "2024-10-17T14:32:54.387942Z",
     "start_time": "2024-10-17T14:32:54.384589Z"
    }
   },
   "cell_type": "code",
   "source": [
    "data_set = load_hierarchical_dataset(\n",
    "    file=[StringIO(xml_data[i]) for i in range(len(xml_data))],\n",
    "    data_model=genomic_interpretation,\n",
    "    file_extension=\"xml\",\n",
    "    mapping={\n",
    "        genomic_interpretation.subject_or_biosample_id: \"ODM.ClinicalData.SubjectData.SubjectKey\",\n",
    "        genomic_interpretation.example.a_number: \"ODM.ClinicalData.SubjectData.ANumber\",\n",
    "    }\n",
    ")"
   ],
   "id": "edbf8ad0a0a55290",
   "outputs": [
    {
     "name": "stderr",
     "output_type": "stream",
     "text": [
      "C:\\Users\\filip\\OneDrive\\Documents\\dataspell\\phenopacket_mapper\\src\\phenopacket_mapper\\data_standards\\data_model.py:296: UserWarning: Value 101 of type <class 'int'> is not in the value set of field subject_or_biosample_id (row 0:ODM.ClinicalData.SubjectData.SubjectKey)\n",
      "  warnings.warn(f\"Value {self.value} of type {type(self.value)} is not in the value set of field \"\n",
      "C:\\Users\\filip\\OneDrive\\Documents\\dataspell\\phenopacket_mapper\\src\\phenopacket_mapper\\data_standards\\data_model.py:354: UserWarning: Instance values do not comply with their respective fields' valuesets. (row 0)\n",
      "  warnings.warn(error_msg)\n",
      "C:\\Users\\filip\\OneDrive\\Documents\\dataspell\\phenopacket_mapper\\src\\phenopacket_mapper\\data_standards\\data_model.py:296: UserWarning: Value 102 of type <class 'int'> is not in the value set of field subject_or_biosample_id (row 1:ODM.ClinicalData.SubjectData.SubjectKey)\n",
      "  warnings.warn(f\"Value {self.value} of type {type(self.value)} is not in the value set of field \"\n",
      "C:\\Users\\filip\\OneDrive\\Documents\\dataspell\\phenopacket_mapper\\src\\phenopacket_mapper\\data_standards\\data_model.py:354: UserWarning: Instance values do not comply with their respective fields' valuesets. (row 1)\n",
      "  warnings.warn(error_msg)\n"
     ]
    }
   ],
   "execution_count": 12
  }
 ],
 "metadata": {
  "kernelspec": {
   "display_name": "Python 3",
   "language": "python",
   "name": "python3"
  },
  "language_info": {
   "codemirror_mode": {
    "name": "ipython",
    "version": 2
   },
   "file_extension": ".py",
   "mimetype": "text/x-python",
   "name": "python",
   "nbconvert_exporter": "python",
   "pygments_lexer": "ipython2",
   "version": "2.7.6"
  }
 },
 "nbformat": 4,
 "nbformat_minor": 5
}
