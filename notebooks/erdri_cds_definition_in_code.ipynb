{
 "cells": [
  {
   "cell_type": "markdown",
   "source": [
    "# ERDRI CDS\n",
    "The \"Set of common data elements for Rare Diseases Registration\" is the first practical instrument released by the EU RD Platform aiming at increasing interoperability of RD registries.\n",
    "\n",
    "It contains 16 data elements to be registered by each rare disease registry across Europe, which are considered to be essential for further research. They refer to patient's personal data, diagnosis, disease history and care pathway, information for research purposes and about disability.\n",
    "\n",
    "The \"Set of common data elements for Rare Diseases Registration\" was produced by a Working Group coordinated by the JRC and composed of experts from EU projects which worked on common data sets: EUCERD Joint Action, EPIRARE and RD-Connect.\n",
    "\n",
    "[Source](https://eu-rd-platform.jrc.ec.europa.eu/set-of-common-data-elements_en)\n",
    "\n",
    "## 1. Defining the ERDRI CDS Data Model\n",
    "Instead of loading in a data model from a file, we can also create a data model by defining it in code. This skips the parsing step and allows us to define the data model in a more flexible way."
   ],
   "metadata": {
    "collapsed": false
   },
   "id": "4136c82e033ede7e"
  },
  {
   "cell_type": "markdown",
   "source": [
    "![image](../res/imgs/notebooks/erdri_cds1.png)\n",
    "![image](../res/imgs/notebooks/erdri_cds2.png)"
   ],
   "metadata": {
    "collapsed": false
   },
   "id": "40c162ba8c69dfb7"
  },
  {
   "cell_type": "markdown",
   "source": [
    "## 1.1. Resources\n",
    "\n",
    "Every data model in the modern digital health environment will probably rely on at least one or more code systems. Code systems might include terminologies, classifications, or ontologies. Popular code systems include LOINC, SNOMED CT, ICD-10, and Orphanet Rare Disease Ontology (ORDO).\n",
    "\n",
    "In this case, we will use the following code systems (in order as listed in the CODING column of the ERDRI CDS data model above):\n",
    "- [ORDO](https://www.orpha.net/en/disease): Orphanet Rare Disease Ontology\n",
    "- [Alpha-ID-SE](https://www.bfarm.de/EN/Code-systems/Terminologies/Alpha-ID-SE/_node.html): Simplified, uniform and standardised coding of rare diseases according to ICD-10-GM\n",
    "- [ICD-9](https://iris.who.int/handle/10665/39473): International Classification of Diseases, Ninth Revision\n",
    "- [ICD-9-CM](https://archive.cdc.gov/www_cdc_gov/nchs/icd/icd9cm.htm#:~:text=ICD%2D9%2DCM%20is%20the,10%20for%20mortality%20coding%20started.): International Classification of Diseases, Ninth Revision, Clinical Modification\n",
    "- [ICD-10](https://www.who.int/classifications/icd/en/): International Classification of Diseases, Tenth Revision\n",
    "- [HGVS](https://hgvs.org/): Human Genome Variation Society\n",
    "- [HGNC](https://www.genenames.org/): HUGO Gene Nomenclature Committee\n",
    "- [OMIM](https://www.omim.org/): Online Mendelian Inheritance in Man\n",
    "- [HPO](https://hpo.jax.org/): Human Phenotype Ontology\n",
    "\n",
    "\n",
    "There are already some popular code systems predefined in the `phenopacket-mapper` package. We can use them directly in our data model. Although optional, it is recommended to add the correct or most recent version to each code system. This will help to ensure that the code system is correctly identified and used in the data model.\n",
    "\n",
    "The versions added below are the most recent at the time of writing this notebook. You can check for the most recent version of each code system on the respective website."
   ],
   "metadata": {
    "collapsed": false
   },
   "id": "bc862033c73cc43b"
  },
  {
   "cell_type": "code",
   "outputs": [],
   "source": [
    "from phenopacket_mapper.data_standards.code_system import ORDO, ICD9, HGVS, HGNC, OMIM, HPO "
   ],
   "metadata": {
    "collapsed": false
   },
   "id": "a86f24df0f21ca85"
  },
  {
   "cell_type": "code",
   "execution_count": null,
   "id": "initial_id",
   "metadata": {
    "collapsed": true
   },
   "outputs": [],
   "source": [
    "resources = [\n",
    "    ORDO.set_version(\"1.0.19 (2024-08-02)\"),\n",
    "    ICD9,\n",
    "    HGVS.set_version(\"21.0.4 (2024-08-15)\"),\n",
    "    HGNC.set_version(\"2024-08-23\"),\n",
    "    OMIM.set_version(\"2024-09-12\"),\n",
    "    HPO.set_version(\"2024-06-07\")\n",
    "]"
   ]
  },
  {
   "cell_type": "markdown",
   "source": [
    "The keen eyed among you might have spotted that we forgot to add the ICD-9-CM, ICD-10, and Alpha-ID-SE code systems. We can add them to the list of resources by creating a new `CodeSystem` object for each of them. We can then add them to the `resources` list.:"
   ],
   "metadata": {
    "collapsed": false
   },
   "id": "64eb915ba6058aa7"
  },
  {
   "cell_type": "code",
   "outputs": [],
   "source": [
    "from phenopacket_mapper.data_standards.code_system import CodeSystem"
   ],
   "metadata": {
    "collapsed": false
   },
   "id": "c667e5760e734525"
  },
  {
   "cell_type": "code",
   "outputs": [],
   "source": [
    "alpha = CodeSystem(name='Alpha-ID-SE', namespace_prefix='alpha', url='https://www.bfarm.de/EN/Code-systems/Terminologies/Alpha-ID-SE/_node.html')\n",
    "icd9cm = CodeSystem(name='International Classification of Diseases 9 Clinical Modification (USA)', namespace_prefix='icd-9-cm', url='http://hl7.org/fhir/sid/icd-9-cm')\n",
    "icd10 = CodeSystem(name='International Classification of Diseases 10 (WHO)', namespace_prefix='icd-10', url='http://hl7.org/fhir/sid/icd-10')"
   ],
   "metadata": {
    "collapsed": false
   },
   "id": "2cba20f939e9193a"
  }
 ],
 "metadata": {
  "kernelspec": {
   "display_name": "Python 3",
   "language": "python",
   "name": "python3"
  },
  "language_info": {
   "codemirror_mode": {
    "name": "ipython",
    "version": 2
   },
   "file_extension": ".py",
   "mimetype": "text/x-python",
   "name": "python",
   "nbconvert_exporter": "python",
   "pygments_lexer": "ipython2",
   "version": "2.7.6"
  }
 },
 "nbformat": 4,
 "nbformat_minor": 5
}
