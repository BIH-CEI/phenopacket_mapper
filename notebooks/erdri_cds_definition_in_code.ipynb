{
 "cells": [
  {
   "cell_type": "markdown",
   "source": [
    "# ERDRI CDS\n",
    "The \"Set of common data elements for Rare Diseases Registration\" is the first practical instrument released by the EU RD Platform aiming at increasing interoperability of RD registries.\n",
    "\n",
    "It contains 16 data elements to be registered by each rare disease registry across Europe, which are considered to be essential for further research. They refer to patient's personal data, diagnosis, disease history and care pathway, information for research purposes and about disability.\n",
    "\n",
    "The \"Set of common data elements for Rare Diseases Registration\" was produced by a Working Group coordinated by the JRC and composed of experts from EU projects which worked on common data sets: EUCERD Joint Action, EPIRARE and RD-Connect.\n",
    "\n",
    "[Source](https://eu-rd-platform.jrc.ec.europa.eu/set-of-common-data-elements_en)\n",
    "\n",
    "## 1. Defining the ERDRI CDS Data Model\n",
    "Instead of loading in a data model from a file, we can also create a data model by defining it in code. This skips the parsing step and allows us to define the data model in a more flexible way."
   ],
   "metadata": {
    "collapsed": false
   },
   "id": "4136c82e033ede7e"
  },
  {
   "cell_type": "markdown",
   "source": [
    "![ERDRI CDS](../res/imgs/notebooks/erdri_cds1.png)\n",
    "![ERDRI CDS](../res/imgs/notebooks/erdri_cds2.png)"
   ],
   "metadata": {
    "collapsed": false
   },
   "id": "40c162ba8c69dfb7"
  },
  {
   "cell_type": "markdown",
   "source": [
    "## 1.1. Resources\n",
    "\n",
    "Every data model in the modern digital health environment will probably rely on at least one or more code systems. Code systems might include terminologies, classifications, or ontologies. Popular code systems include LOINC, SNOMED CT, ICD-10, and Orphanet Rare Disease Ontology (ORDO).\n",
    "\n",
    "In this case, we will use the following code systems (in order as listed in the CODING column of the ERDRI CDS data model above):\n",
    "- [ORDO](https://www.orpha.net/en/disease): Orphanet Rare Disease Ontology\n",
    "- [Alpha-ID-SE](https://www.bfarm.de/EN/Code-systems/Terminologies/Alpha-ID-SE/_node.html): Simplified, uniform and standardised coding of rare diseases according to ICD-10-GM\n",
    "- [ICD-9](https://iris.who.int/handle/10665/39473): International Classification of Diseases, Ninth Revision\n",
    "- [ICD-9-CM](https://archive.cdc.gov/www_cdc_gov/nchs/icd/icd9cm.htm#:~:text=ICD%2D9%2DCM%20is%20the,10%20for%20mortality%20coding%20started.): International Classification of Diseases, Ninth Revision, Clinical Modification\n",
    "- [ICD-10](https://www.who.int/classifications/icd/en/): International Classification of Diseases, Tenth Revision\n",
    "- [HGVS](https://hgvs.org/): Human Genome Variation Society\n",
    "- [HGNC](https://www.genenames.org/): HUGO Gene Nomenclature Committee\n",
    "- [OMIM](https://www.omim.org/): Online Mendelian Inheritance in Man\n",
    "- [HPO](https://hpo.jax.org/): Human Phenotype Ontology\n",
    "\n",
    "\n",
    "There are already some popular code systems predefined in the `phenopacket-mapper` package. We can use them directly in our data model. Although optional, it is recommended to add the correct or most recent version to each code system. This will help to ensure that the code system is correctly identified and used in the data model.\n",
    "\n",
    "The versions added below are the most recent at the time of writing this notebook. You can check for the most recent version of each code system on the respective website."
   ],
   "metadata": {
    "collapsed": false
   },
   "id": "bc862033c73cc43b"
  },
  {
   "cell_type": "code",
   "outputs": [],
   "source": [
    "from phenopacket_mapper.data_standards.code_system import ORDO, ICD9, HGVS, HGNC, OMIM, HPO "
   ],
   "metadata": {
    "collapsed": false
   },
   "id": "a86f24df0f21ca85"
  },
  {
   "cell_type": "code",
   "execution_count": null,
   "id": "initial_id",
   "metadata": {
    "collapsed": true
   },
   "outputs": [],
   "source": [
    "resources = [\n",
    "    ORDO.set_version(\"1.0.19 (2024-08-02)\"),\n",
    "    ICD9,\n",
    "    HGVS.set_version(\"21.0.4 (2024-08-15)\"),\n",
    "    HGNC.set_version(\"2024-08-23\"),\n",
    "    OMIM.set_version(\"2024-09-12\"),\n",
    "    HPO.set_version(\"2024-06-07\")\n",
    "]"
   ]
  },
  {
   "cell_type": "markdown",
   "source": [
    "The keen eyed among you might have spotted that we forgot to add the ICD-9-CM, ICD-10, and Alpha-ID-SE code systems. We can add them to the list of resources by creating a new `CodeSystem` object for each of them. We can then add them to the `resources` list.:"
   ],
   "metadata": {
    "collapsed": false
   },
   "id": "64eb915ba6058aa7"
  },
  {
   "cell_type": "code",
   "outputs": [],
   "source": [
    "from phenopacket_mapper.data_standards.code_system import CodeSystem"
   ],
   "metadata": {
    "collapsed": false
   },
   "id": "c667e5760e734525"
  },
  {
   "cell_type": "code",
   "outputs": [],
   "source": [
    "alpha = CodeSystem(name='Alpha-ID-SE', namespace_prefix='alpha', url='https://www.bfarm.de/EN/Code-systems/Terminologies/Alpha-ID-SE/_node.html')\n",
    "icd9cm = CodeSystem(name='International Classification of Diseases 9 Clinical Modification (USA)', namespace_prefix='icd-9-cm', url='http://hl7.org/fhir/sid/icd-9-cm')\n",
    "icd10 = CodeSystem(name='International Classification of Diseases 10 (WHO)', namespace_prefix='icd-10', url='http://hl7.org/fhir/sid/icd-10')"
   ],
   "metadata": {
    "collapsed": false
   },
   "id": "2cba20f939e9193a"
  },
  {
   "cell_type": "code",
   "outputs": [
    {
     "ename": "NameError",
     "evalue": "name 'resources' is not defined",
     "output_type": "error",
     "traceback": [
      "\u001B[1;31m---------------------------------------------------------------------------\u001B[0m",
      "\u001B[1;31mNameError\u001B[0m                                 Traceback (most recent call last)",
      "Cell \u001B[1;32mIn[1], line 1\u001B[0m\n\u001B[1;32m----> 1\u001B[0m \u001B[43mresources\u001B[49m\u001B[38;5;241m.\u001B[39mappend(alpha)\n\u001B[0;32m      2\u001B[0m resources\u001B[38;5;241m.\u001B[39mappend(icd9cm)\n\u001B[0;32m      3\u001B[0m resources\u001B[38;5;241m.\u001B[39mappend(icd10)\n",
      "\u001B[1;31mNameError\u001B[0m: name 'resources' is not defined"
     ]
    }
   ],
   "source": [
    "resources.append(alpha)\n",
    "resources.append(icd9cm)\n",
    "resources.append(icd10)"
   ],
   "metadata": {
    "collapsed": false,
    "ExecuteTime": {
     "end_time": "2024-09-15T17:43:37.758244400Z",
     "start_time": "2024-09-15T17:43:37.543674100Z"
    }
   },
   "id": "8f763e585095846f",
   "execution_count": 1
  },
  {
   "cell_type": "markdown",
   "source": [
    "## 1.2 Fields of the data model and their value sets\n",
    "\n",
    "As you can see above, the ERDRI CDS are made up of 8 sections with a total of 16 fields. Each field has a name, a description, and a value set. The value set is a list of possible values that the field can take, such as a list of codings, strings or numerical values to choose from. Another option is to restrict values in a field to a possible data type (e.g., string), code system (e.g., ORDO), a date, etc.\n",
    "\n",
    "However, to limit the complexity of this example, we will omit the 7th and 8th sections, as they are also difficult to model in phenopackets. We will focus on the first 6 sections, containing 11 fields.\n",
    "\n",
    "We will start here by defining the value sets of all the fields in the ERDRI CDS data model. We will use the code systems we defined above to define the value sets of the fields."
   ],
   "metadata": {
    "collapsed": false
   },
   "id": "99c28edc00c4e0cd"
  },
  {
   "cell_type": "code",
   "outputs": [],
   "source": [
    "from phenopacket_mapper.data_standards.value_set import ValueSet"
   ],
   "metadata": {
    "collapsed": false,
    "ExecuteTime": {
     "end_time": "2024-09-13T14:36:01.365404100Z",
     "start_time": "2024-09-13T14:36:01.028312900Z"
    }
   },
   "id": "da099dfff150c4c3",
   "execution_count": 1
  },
  {
   "cell_type": "markdown",
   "source": [
    "We will start by defining the value set for the first field of the ERDRI CDS data model, which is the pseudonym. The pseudonym is a string, so we will define a value set with the element type set to `str`. We will also add a name and description to the value set to make it easier to identify later on."
   ],
   "metadata": {
    "collapsed": false
   },
   "id": "8fa07242b964f91f"
  },
  {
   "cell_type": "code",
   "outputs": [],
   "source": [
    "# 1. Pseudonym\n",
    "# 1.1. Pseudonym\n",
    "vs_1_1 = ValueSet(\n",
    "    elements=[str],\n",
    "    name=\"Value set for 1.1. Pseudonym\",\n",
    "    description=\"Value set for field 1.1. Pseudonym of the ERDRI CDS data model in section 1. Pseudonym\",\n",
    ")"
   ],
   "metadata": {
    "collapsed": false
   },
   "id": "858ac0c5006d3eb2"
  },
  {
   "cell_type": "markdown",
   "source": [
    "Next, we get to the section about personal information. Here the first field is the date of birth. The date of birth is a date, so we will define a value set with the element type set to the `Date` type provided by `phenopacket-mapper`."
   ],
   "metadata": {
    "collapsed": false
   },
   "id": "e0dde2a43fb89d51"
  },
  {
   "cell_type": "code",
   "outputs": [],
   "source": [
    "from phenopacket_mapper.data_standards import Date"
   ],
   "metadata": {
    "collapsed": false
   },
   "id": "df11e0fe55d695b3"
  },
  {
   "cell_type": "code",
   "outputs": [],
   "source": [
    "# 2. Personal information\n",
    "# 2.1. Date of Birth\n",
    "vs_2_1 = ValueSet(\n",
    "    elements=[Date],\n",
    "    name=\"Value set for 2.1. Date of Birth\",\n",
    "    description=\"Value set for field 2.1. Date of Birth of the ERDRI CDS data model in section 2. Personal information\",\n",
    ")"
   ],
   "metadata": {
    "collapsed": false
   },
   "id": "1ce5edd4f1bff64f"
  },
  {
   "cell_type": "markdown",
   "source": [
    "The next field: \"Sex\" is a categorical field with four possible values: \n",
    "- Female,\n",
    "- Male,\n",
    "- Undetermined, and\n",
    "- Foetus (Unknown). \n",
    "\n",
    "It is to be noted that it is generally recommended to encode concepts with an internationally recognized code system. However, in this case the authors of the ERDRI CDS data model have not specified a code system for the field, making things easier for us. \n",
    "\n",
    "The same can be said for field 3.1.\n",
    "\n",
    "At the bottom of this notebook there is an examplary implementation of this field using concepts from the SNOEMD CT code system. The example also introduces you to `CodeableConcept` objects."
   ],
   "metadata": {
    "collapsed": false
   },
   "id": "9d6aace0534206a1"
  },
  {
   "cell_type": "code",
   "outputs": [],
   "source": [
    "# 2.2. Sex\n",
    "vs_2_2 = ValueSet(\n",
    "    elements=[\"Female\", \"Male\", \"Undetermined\", \"Foetus (Unknown)\"],\n",
    "    name=\"Value set for 2.2. Sex\",\n",
    "    description=\"Value set for field 2.2. Sex of the ERDRI CDS data model in section 2. Personal information\",\n",
    ")\n",
    "# 3. Patient Status\n",
    "# 3.1. Patient's status\n",
    "vs_3_1 = ValueSet(\n",
    "    elements=[\"Alive\", \"Dead\", \"Lost in follow-up\", \"Opted-out\"],\n",
    "    name=\"Value set for 3.1. Patient's status\",\n",
    "    description=\"Value set for field 3.1. Patient's status of the ERDRI CDS data model in section 3. Patient Status\",\n",
    ")"
   ],
   "metadata": {
    "collapsed": false
   },
   "id": "d60831a9feb5ebb1"
  },
  {
   "cell_type": "markdown",
   "source": [
    "The field date of death relies on a date value, so we will define a value set with the element type set to the `Date` type provided by `phenopacket-mapper`."
   ],
   "metadata": {
    "collapsed": false
   },
   "id": "6fe00ef735388067"
  },
  {
   "cell_type": "code",
   "outputs": [],
   "source": [
    "# 3.2. Date of death\n",
    "vs_3_2 = ValueSet(\n",
    "    elements=[Date],\n",
    "    name=\"Value set for 3.2. Date of death\",\n",
    "    description=\"Value set for field 3.2. Date of death of the ERDRI CDS data model in section 3. Patient Status\",\n",
    ")"
   ],
   "metadata": {
    "collapsed": false
   },
   "id": "8a640c47ec2b23f3"
  },
  {
   "cell_type": "markdown",
   "source": [
    "Note that we could have also just created a single value set for the date fields and reused it for all the date fields. This would have been more efficient and would have reduced the amount of code we had to write. However, for the sake of clarity, we have defined separate value sets for each field.\n",
    "let's try this for the next field."
   ],
   "metadata": {
    "collapsed": false
   },
   "id": "89cf93a03d119d73"
  },
  {
   "cell_type": "code",
   "outputs": [],
   "source": [
    "# 4. Care Pathway\n",
    "# 4.1. First contact with specialised centre\n",
    "vs_4_1 = ValueSet(\n",
    "    elements=[Date],\n",
    "    name=\"Date value set\",\n",
    "    description=\"Value set for date fields\",\n",
    ")"
   ],
   "metadata": {
    "collapsed": false
   },
   "id": "74e09c708d1324a0"
  },
  {
   "cell_type": "markdown",
   "source": [
    "To implement the next field age at onset, we can use the `extend` method of the `ValueSet` class to create a new value set based on the dat value set but expanded by the values required by 5.1.:\n",
    "- Antenatal\n",
    "- At birth\n",
    "- Undetermined\n",
    "\n",
    "The `extend` function returns an expanded copy of the original value set with the new elements added. The original value set remains unchanged.\n",
    "\n",
    "We can reuse this value set for the next field, age at diagnosis."
   ],
   "metadata": {
    "collapsed": false
   },
   "id": "6204eb9eba7cdfa5"
  },
  {
   "cell_type": "code",
   "outputs": [],
   "source": [
    "# 5. Disease history\n",
    "# 5.1. Age at onset\n",
    "vs_5_1 = vs_4_1.extend(\n",
    "    new_name=\"Onset value set\",\n",
    "    value_set=ValueSet([\"Antenatal\", \"At birth\", \"Undetermined\"])\n",
    ")\n",
    "# 5.2. Age at diagnosis\n",
    "vs_5_2 = vs_5_1"
   ],
   "metadata": {
    "collapsed": false
   },
   "id": "3c3c81c9f5602da4"
  },
  {
   "cell_type": "markdown",
   "source": [
    "The fields in the following section diagnosis are all defined by using codings from code systems. We will define the value sets for these fields using the list of resources we defined above."
   ],
   "metadata": {
    "collapsed": false
   },
   "id": "5f6acfe054e80f5"
  },
  {
   "cell_type": "code",
   "outputs": [],
   "source": [
    "# 6. Diagnosis\n",
    "# 6.1. Diagnosis of the rare disease\n",
    "vs_6_1 = ValueSet(\n",
    "    elements=[ORDO, ICD9, icd9cm, alpha, icd10],\n",
    "    name=\"Value set for 6.1. Diagnosis of the rare disease\",\n",
    "    description=\"Value set for field 6.1. Diagnosis of the rare disease of the ERDRI CDS data model in section 6. Diagnosis\",\n",
    ")\n",
    "# 6.2. Genetic diagnosis\n",
    "vs_6_2 = ValueSet(\n",
    "    elements=[HGVS, HGNC, OMIM],\n",
    "    name=\"Value set for 6.2. Genetic diagnosis\",\n",
    "    description=\"Value set for field 6.2. Genetic diagnosis of the ERDRI CDS data model in section 6. Diagnosis\",\n",
    ")\n",
    "# 6.3. Undiagnosed case\n",
    "vs_6_3 = ValueSet(\n",
    "    elements=[HPO, HGVS],\n",
    "    name=\"Value set for 6.3. Undiagnosed case\",\n",
    "    description=\"Value set for field 6.3. Undiagnosed case of the ERDRI CDS data model in section 6. Diagnosis\",\n",
    ")"
   ],
   "metadata": {
    "collapsed": false
   },
   "id": "9f5bcb742f8e05aa"
  },
  {
   "cell_type": "markdown",
   "source": [
    "## Define the `DataModel` object\n",
    "After defining value sets for each field in the ERDRI CDS data model, we can now define the `DataModel` object. The `DataModel` object is the main object that represents the data model. "
   ],
   "metadata": {
    "collapsed": false
   },
   "id": "aacc945f52dcfbec"
  },
  {
   "cell_type": "code",
   "outputs": [],
   "source": [
    "# 1. Pseudonym\n",
    "# 1.1. Pseudonym\n",
    "\n",
    "# 2. Personal information\n",
    "# 2.1. Date of Birth\n",
    "# 2.2. Sex\n",
    "\n",
    "# 3. Patient Status\n",
    "# 3.1. Patient's status\n",
    "# 3.2. Date of death\n",
    "\n",
    "# 4. Care Pathway\n",
    "# 4.1. First contact with specialised centre\n",
    "\n",
    "# 5. Disease history\n",
    "# 5.1. Age at onset\n",
    "# 5.2. Age at diagnosis\n",
    "\n",
    "# 6. Diagnosis\n",
    "# 6.1. Diagnosis of the rare disease\n",
    "# 6.2. Genetic diagnosis\n",
    "# 6.3. Undiagnosed case"
   ],
   "metadata": {
    "collapsed": false
   },
   "id": "79550015aac215"
  },
  {
   "cell_type": "markdown",
   "source": [],
   "metadata": {
    "collapsed": false
   },
   "id": "76dae8cb6f276202"
  },
  {
   "cell_type": "code",
   "outputs": [],
   "source": [],
   "metadata": {
    "collapsed": false
   },
   "id": "b7123400f775fc59"
  },
  {
   "cell_type": "markdown",
   "source": [
    "#### Continuance of the discussion raised by field 2.2. above\n",
    "\n",
    "For the sake of completeness, we could use SNOMED Clinical Terms (SNOMED CT) to encode this variable using a value set containg:\n",
    "- [SNOMED:248152002](https://browser.ihtsdotools.org/?perspective=full&conceptId1=248152002&edition=MAIN/2024-09-01&release=&languages=en) Female\n",
    "- [SNOMED:248153007](https://browser.ihtsdotools.org/?perspective=full&conceptId1=248153007&edition=MAIN/2024-09-01&release=&languages=en) Male\n",
    "- [SNOMED:373068000, SNOMED: 734000001](https://browser.ihtsdotools.org/?perspective=full&conceptId1=404684003&edition=MAIN/2024-09-01&release=&languages=en) Undetermined biological sex\n",
    "- [SNOMED:303112003, SNOMED:373068000, SNOMED: 734000001](https://browser.ihtsdotools.org/?perspective=full&conceptId1=303112003&edition=MAIN/2024-09-01&release=&languages=en) Fetal period, biological sex unknown\n",
    "\n",
    "To include multiple codings as a single value, one can use a `CodeableConcept` (`phenopacket_mapper.data_standards.code.CodeableConcept`) object. This object can contain multiple codings, each with a different code system if so wanted.\n",
    "\n",
    "E.g.:"
   ],
   "metadata": {
    "collapsed": false
   },
   "id": "ac42306d208ec95"
  },
  {
   "cell_type": "code",
   "outputs": [],
   "source": [
    "from phenopacket_mapper.data_standards import Coding, CodeableConcept\n",
    "from phenopacket_mapper.data_standards.code_system import SNOMED_CT\n",
    "\n",
    "sct_coding_female = Coding(code=\"248152002\", system=SNOMED_CT, display=\"Female (finding)\")\n",
    "sct_coding_male = Coding(code=\"248153007\", system=SNOMED_CT, display=\"Male (finding)\")\n",
    "sct_coding_undetermined = Coding(code=\"373068000\", system=SNOMED_CT, display=\"Undetermined (qualifier value)\")\n",
    "sct_coding_bio_sex = Coding(code=\"734000001\", system=SNOMED_CT, display=\"Biological sex (property) (qualifier value)\")\n",
    "sct_coding_foetus = Coding(code=\"303112003\", system=SNOMED_CT, display=\"Fetal period (qualifier value)\")\n",
    "\n",
    "cc_und_bio_sex = CodeableConcept(coding=[sct_coding_undetermined, sct_coding_bio_sex], text=\"Undetermined biological sex\")\n",
    "cc_foetus = CodeableConcept(coding=[sct_coding_foetus, sct_coding_undetermined, sct_coding_bio_sex], text=\"Fetal period, biological sex unknown\")\n",
    "\n",
    "vs_bio_sex = ValueSet(elements=[sct_coding_female, sct_coding_male, cc_und_bio_sex, cc_foetus], name=\"\", description=\"\")"
   ],
   "metadata": {
    "collapsed": false,
    "ExecuteTime": {
     "end_time": "2024-09-13T15:14:11.744256400Z",
     "start_time": "2024-09-13T15:14:11.738437Z"
    }
   },
   "id": "50137b0a3a08c959",
   "execution_count": 3
  },
  {
   "cell_type": "code",
   "outputs": [],
   "source": [],
   "metadata": {
    "collapsed": false
   },
   "id": "a55ebfdf44d8446f"
  }
 ],
 "metadata": {
  "kernelspec": {
   "display_name": "Python 3",
   "language": "python",
   "name": "python3"
  },
  "language_info": {
   "codemirror_mode": {
    "name": "ipython",
    "version": 2
   },
   "file_extension": ".py",
   "mimetype": "text/x-python",
   "name": "python",
   "nbconvert_exporter": "python",
   "pygments_lexer": "ipython2",
   "version": "2.7.6"
  }
 },
 "nbformat": 4,
 "nbformat_minor": 5
}
