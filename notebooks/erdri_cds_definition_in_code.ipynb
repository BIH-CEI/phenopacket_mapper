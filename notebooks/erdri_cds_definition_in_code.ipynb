{
 "cells": [
  {
   "cell_type": "markdown",
   "source": [
    "# ERDRI CDS\n",
    "The \"Set of common data elements for Rare Diseases Registration\" is the first practical instrument released by the EU RD Platform aiming at increasing interoperability of RD registries.\n",
    "\n",
    "It contains 16 data elements to be registered by each rare disease registry across Europe, which are considered to be essential for further research. They refer to patient's personal data, diagnosis, disease history and care pathway, information for research purposes and about disability.\n",
    "\n",
    "The \"Set of common data elements for Rare Diseases Registration\" was produced by a Working Group coordinated by the JRC and composed of experts from EU projects which worked on common data sets: EUCERD Joint Action, EPIRARE and RD-Connect.\n",
    "\n",
    "[Source](https://eu-rd-platform.jrc.ec.europa.eu/set-of-common-data-elements_en)\n",
    "\n",
    "## 1. Defining the ERDRI CDS Data Model\n",
    "Instead of loading in a data model from a file, we can also create a data model by defining it in code. This skips the parsing step and allows us to define the data model in a more flexible way."
   ],
   "metadata": {
    "collapsed": false
   },
   "id": "4136c82e033ede7e"
  },
  {
   "cell_type": "code",
   "execution_count": null,
   "id": "initial_id",
   "metadata": {
    "collapsed": true
   },
   "outputs": [],
   "source": []
  }
 ],
 "metadata": {
  "kernelspec": {
   "display_name": "Python 3",
   "language": "python",
   "name": "python3"
  },
  "language_info": {
   "codemirror_mode": {
    "name": "ipython",
    "version": 2
   },
   "file_extension": ".py",
   "mimetype": "text/x-python",
   "name": "python",
   "nbconvert_exporter": "python",
   "pygments_lexer": "ipython2",
   "version": "2.7.6"
  }
 },
 "nbformat": 4,
 "nbformat_minor": 5
}
